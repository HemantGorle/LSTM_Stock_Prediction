{
  "nbformat": 4,
  "nbformat_minor": 0,
  "metadata": {
    "colab": {
      "name": "Untitled0.ipynb",
      "provenance": [],
      "collapsed_sections": [],
      "authorship_tag": "ABX9TyOEALZgQ2kpX9Q+zET7QBL1",
      "include_colab_link": true
    },
    "kernelspec": {
      "name": "python3",
      "display_name": "Python 3"
    },
    "language_info": {
      "name": "python"
    },
    "accelerator": "GPU"
  },
  "cells": [
    {
      "cell_type": "markdown",
      "metadata": {
        "id": "view-in-github",
        "colab_type": "text"
      },
      "source": [
        "<a href=\"https://colab.research.google.com/github/HemantGorle/LSTM_Stock_Prediction/blob/main/LSTM%20Multivariate%20Stock%20Price%20Prediction.ipynb\" target=\"_parent\"><img src=\"https://colab.research.google.com/assets/colab-badge.svg\" alt=\"Open In Colab\"/></a>"
      ]
    },
    {
      "cell_type": "markdown",
      "metadata": {
        "id": "lxZEtk2smGuX"
      },
      "source": [
        "**LSTM** model to predict stock price using multiple features "
      ]
    },
    {
      "cell_type": "code",
      "metadata": {
        "id": "buf-uwH5EpUd"
      },
      "source": [
        "# importing all dependencies\n",
        "import pandas_datareader as pdr\n",
        "import pandas as pd\n",
        "\n",
        "#key=\"\" # Key is removed for security purpose \n",
        "#df = pdr.get_data_tiingo('AMD', api_key=key)"
      ],
      "execution_count": 1,
      "outputs": []
    },
    {
      "cell_type": "code",
      "metadata": {
        "id": "BBUbAk17K5aP"
      },
      "source": [
        "# convert data read from tiingo to CSV file\n",
        "# df.to_csv('AMD.csv')"
      ],
      "execution_count": 2,
      "outputs": []
    },
    {
      "cell_type": "code",
      "metadata": {
        "colab": {
          "base_uri": "https://localhost:8080/"
        },
        "id": "5sbFAqfVcPCV",
        "outputId": "14be72ef-461d-4009-d9a9-fe5a5ba82669"
      },
      "source": [
        "# read data from CSV file\n",
        "!git clone https://github.com/HemantGorle/LSTM_Stock_Prediction.git\n",
        "df = pd.read_csv('/content/LSTM_Stock_Prediction/AMD.csv')"
      ],
      "execution_count": 3,
      "outputs": [
        {
          "output_type": "stream",
          "text": [
            "Cloning into 'LSTM_Stock_Prediction'...\n",
            "remote: Enumerating objects: 6, done.\u001b[K\n",
            "remote: Counting objects: 100% (6/6), done.\u001b[K\n",
            "remote: Compressing objects: 100% (4/4), done.\u001b[K\n",
            "remote: Total 6 (delta 0), reused 0 (delta 0), pack-reused 0\u001b[K\n",
            "Unpacking objects: 100% (6/6), done.\n"
          ],
          "name": "stdout"
        }
      ]
    },
    {
      "cell_type": "code",
      "metadata": {
        "id": "r1xtJYoNcs4q"
      },
      "source": [
        "# creating new dataframe to plot closing price\n",
        "df = pd.read_csv('/content/LSTM_Stock_Prediction/AMD.csv')\n",
        "df1 = df.reset_index()['close']"
      ],
      "execution_count": 4,
      "outputs": []
    },
    {
      "cell_type": "code",
      "metadata": {
        "colab": {
          "base_uri": "https://localhost:8080/",
          "height": 283
        },
        "id": "Q8oz6GMMc3vb",
        "outputId": "41d1fe05-25a2-488e-ce3e-2275395b0739"
      },
      "source": [
        "import matplotlib.pyplot as plt\n",
        "plt.plot(df1)"
      ],
      "execution_count": 5,
      "outputs": [
        {
          "output_type": "execute_result",
          "data": {
            "text/plain": [
              "[<matplotlib.lines.Line2D at 0x7fc4aa62a310>]"
            ]
          },
          "metadata": {
            "tags": []
          },
          "execution_count": 5
        },
        {
          "output_type": "display_data",
          "data": {
            "image/png": "[encoded data removed]",
            "text/plain": [
              "<Figure size 432x288 with 1 Axes>"
            ]
          },
          "metadata": {
            "tags": [],
            "needs_background": "light"
          }
        }
      ]
    },
    {
      "cell_type": "code",
      "metadata": {
        "colab": {
          "base_uri": "https://localhost:8080/"
        },
        "id": "iCyBGAL4dCls",
        "outputId": "e0073f9b-a18f-4c34-b03d-dd1b7cfbb2d0"
      },
      "source": [
        "import numpy as np\n",
        "df1"
      ],
      "execution_count": 6,
      "outputs": [
        {
          "output_type": "execute_result",
          "data": {
            "text/plain": [
              "0         6.60\n",
              "1         6.49\n",
              "2         6.58\n",
              "3         6.73\n",
              "4         6.95\n",
              "         ...  \n",
              "1253    108.63\n",
              "1254    112.56\n",
              "1255    118.77\n",
              "1256    112.35\n",
              "1257    110.11\n",
              "Name: close, Length: 1258, dtype: float64"
            ]
          },
          "metadata": {
            "tags": []
          },
          "execution_count": 6
        }
      ]
    },
    {
      "cell_type": "code",
      "metadata": {
        "colab": {
          "base_uri": "https://localhost:8080/"
        },
        "id": "bLAA9uOldIyW",
        "outputId": "d1c31a75-6c33-4016-c020-f28f154a5b46"
      },
      "source": [
        "# we will use MinMaxScalar function to scale the input\n",
        "from sklearn.preprocessing import MinMaxScaler\n",
        "scaler = MinMaxScaler(feature_range = (0,1))\n",
        "df1 = scaler.fit_transform(np.array(df1).reshape(-1,1))\n",
        "df1"
      ],
      "execution_count": 7,
      "outputs": [
        {
          "output_type": "execute_result",
          "data": {
            "text/plain": [
              "array([[0.0076086 ],\n",
              "       [0.00663541],\n",
              "       [0.00743166],\n",
              "       ...,\n",
              "       [1.        ],\n",
              "       [0.94320092],\n",
              "       [0.92338317]])"
            ]
          },
          "metadata": {
            "tags": []
          },
          "execution_count": 7
        }
      ]
    },
    {
      "cell_type": "code",
      "metadata": {
        "id": "6FXhlAaLeoRJ"
      },
      "source": [
        "##splitting dataset into train and test split\n",
        "training_size = int(len(df1)*0.7)\n",
        "test_size = len(df1) - training_size\n",
        "train_data, test_data = df1[0:training_size,:], df1[training_size:len(df1), :1]"
      ],
      "execution_count": 8,
      "outputs": []
    },
    {
      "cell_type": "code",
      "metadata": {
        "colab": {
          "base_uri": "https://localhost:8080/"
        },
        "id": "J7QrxMEltX7a",
        "outputId": "d520f6d3-c166-4771-b5e3-3c0910f839a5"
      },
      "source": [
        "# checking training and testing dataset rows\n",
        "training_size,test_size"
      ],
      "execution_count": 9,
      "outputs": [
        {
          "output_type": "execute_result",
          "data": {
            "text/plain": [
              "(880, 378)"
            ]
          },
          "metadata": {
            "tags": []
          },
          "execution_count": 9
        }
      ]
    },
    {
      "cell_type": "code",
      "metadata": {
        "id": "JpwRTc3yvYCB"
      },
      "source": [
        "import numpy\n",
        "# convert an array of values into a dataset matrix\n",
        "def create_dataset(dataset, time_step = 1):\n",
        "\tdataX, dataY = [], []\n",
        "\tfor i in range(len(dataset) - time_step - 1):\n",
        "\t\ta = dataset[i:(i + time_step), 0]   ###i=0, 0,1,2,3-----99   100 \n",
        "\t\tdataX.append(a)\n",
        "\t\tdataY.append(dataset[i + time_step, 0])\n",
        "\treturn numpy.array(dataX), numpy.array(dataY)"
      ],
      "execution_count": 10,
      "outputs": []
    },
    {
      "cell_type": "code",
      "metadata": {
        "id": "xZgLdJddv_xA"
      },
      "source": [
        "# reshape into X=t,t+1,t+2,t+3 and Y=t+4\n",
        "time_step = 100\n",
        "X_train, y_train = create_dataset(train_data, time_step)\n",
        "X_test, y_test = create_dataset(test_data, time_step)"
      ],
      "execution_count": 11,
      "outputs": []
    },
    {
      "cell_type": "code",
      "metadata": {
        "colab": {
          "base_uri": "https://localhost:8080/"
        },
        "id": "EO3aSt4hwJEZ",
        "outputId": "dc38fc4b-5a27-43b3-834d-19fc62d1ccbd"
      },
      "source": [
        "print(X_train.shape), print(y_train.shape)"
      ],
      "execution_count": 12,
      "outputs": [
        {
          "output_type": "stream",
          "text": [
            "(779, 100)\n",
            "(779,)\n"
          ],
          "name": "stdout"
        },
        {
          "output_type": "execute_result",
          "data": {
            "text/plain": [
              "(None, None)"
            ]
          },
          "metadata": {
            "tags": []
          },
          "execution_count": 12
        }
      ]
    },
    {
      "cell_type": "code",
      "metadata": {
        "colab": {
          "base_uri": "https://localhost:8080/"
        },
        "id": "LTAlOWDNwVte",
        "outputId": "abf710b5-026f-467a-b3e1-0d43fb60b949"
      },
      "source": [
        "print(X_train)"
      ],
      "execution_count": 13,
      "outputs": [
        {
          "output_type": "stream",
          "text": [
            "[[0.0076086  0.00663541 0.00743166 ... 0.05600283 0.05140228 0.05175617]\n",
            " [0.00663541 0.00743166 0.00875874 ... 0.05140228 0.05175617 0.04954437]\n",
            " [0.00743166 0.00875874 0.01070512 ... 0.05175617 0.04954437 0.05034062]\n",
            " ...\n",
            " [0.21666814 0.21250995 0.2164912  ... 0.36954791 0.38078386 0.36503583]\n",
            " [0.21250995 0.2164912  0.22073786 ... 0.38078386 0.36503583 0.37405998]\n",
            " [0.2164912  0.22073786 0.22197647 ... 0.36503583 0.37405998 0.38671149]]\n"
          ],
          "name": "stdout"
        }
      ]
    },
    {
      "cell_type": "code",
      "metadata": {
        "colab": {
          "base_uri": "https://localhost:8080/"
        },
        "id": "OdbWz9SHwUsD",
        "outputId": "86f9ad9f-0e51-4f17-9646-122332a8d3e5"
      },
      "source": [
        "print(X_test.shape), print(y_test.shape)"
      ],
      "execution_count": 14,
      "outputs": [
        {
          "output_type": "stream",
          "text": [
            "(277, 100)\n",
            "(277,)\n"
          ],
          "name": "stdout"
        },
        {
          "output_type": "execute_result",
          "data": {
            "text/plain": [
              "(None, None)"
            ]
          },
          "metadata": {
            "tags": []
          },
          "execution_count": 14
        }
      ]
    },
    {
      "cell_type": "code",
      "metadata": {
        "id": "iR8-Yx9J1_Qv"
      },
      "source": [
        "# reshape input to be [samples, time steps, features] which is required for LSTM\n",
        "X_train = X_train.reshape(X_train.shape[0], X_train.shape[1], 1)\n",
        "X_test = X_test.reshape(X_test.shape[0], X_test.shape[1], 1)"
      ],
      "execution_count": 15,
      "outputs": []
    },
    {
      "cell_type": "code",
      "metadata": {
        "id": "7qMAL6fj2h4I"
      },
      "source": [
        "# Load dependencies to create the Stacked LSTM model\n",
        "from tensorflow.keras.models import Sequential\n",
        "from tensorflow.keras.layers import Dense\n",
        "from tensorflow.keras.layers import LSTM"
      ],
      "execution_count": 16,
      "outputs": []
    },
    {
      "cell_type": "code",
      "metadata": {
        "colab": {
          "base_uri": "https://localhost:8080/"
        },
        "id": "FX0ZFKLG_EU7",
        "outputId": "b8b92f75-9cec-42b5-87b5-4cecc713bd6e"
      },
      "source": [
        "# Create the Stacked LSTM model\n",
        "model = Sequential()\n",
        "model.add(LSTM(50, return_sequences = True, input_shape = (100,1)))\n",
        "model.add(LSTM(50, return_sequences = True))\n",
        "model.add(LSTM(50))\n",
        "model.add(Dense(1))\n",
        "model.compile(loss = 'mean_squared_error', optimizer = 'adam')\n",
        "model.summary()"
      ],
      "execution_count": 17,
      "outputs": [
        {
          "output_type": "stream",
          "text": [
            "Model: \"sequential\"\n",
            "_________________________________________________________________\n",
            "Layer (type)                 Output Shape              Param #   \n",
            "=================================================================\n",
            "lstm (LSTM)                  (None, 100, 50)           10400     \n",
            "_________________________________________________________________\n",
            "lstm_1 (LSTM)                (None, 100, 50)           20200     \n",
            "_________________________________________________________________\n",
            "lstm_2 (LSTM)                (None, 50)                20200     \n",
            "_________________________________________________________________\n",
            "dense (Dense)                (None, 1)                 51        \n",
            "=================================================================\n",
            "Total params: 50,851\n",
            "Trainable params: 50,851\n",
            "Non-trainable params: 0\n",
            "_________________________________________________________________\n"
          ],
          "name": "stdout"
        }
      ]
    },
    {
      "cell_type": "code",
      "metadata": {
        "colab": {
          "base_uri": "https://localhost:8080/"
        },
        "id": "JkEzPz5iAWty",
        "outputId": "fa17c941-ed2a-48a0-97a2-3a62083f155f"
      },
      "source": [
        "# fitting the model with 200 epochs and batch size 64\n",
        "model.fit(X_train, y_train, validation_data = (X_test, y_test), epochs = 200, batch_size = 64, verbose = 1)"
      ],
      "execution_count": 18,
      "outputs": [
        {
          "output_type": "stream",
          "text": [
            "Epoch 1/200\n",
            "13/13 [==============================] - 11s 94ms/step - loss: 0.0057 - val_loss: 0.1038\n",
            "Epoch 2/200\n",
            "13/13 [==============================] - 0s 20ms/step - loss: 0.0017 - val_loss: 0.0110\n",
            "Epoch 3/200\n",
            "13/13 [==============================] - 0s 18ms/step - loss: 6.5522e-04 - val_loss: 0.0054\n",
            "Epoch 4/200\n",
            "13/13 [==============================] - 0s 18ms/step - loss: 4.5846e-04 - val_loss: 0.0034\n",
            "Epoch 5/200\n",
            "13/13 [==============================] - 0s 19ms/step - loss: 3.7708e-04 - val_loss: 0.0036\n",
            "Epoch 6/200\n",
            "13/13 [==============================] - 0s 18ms/step - loss: 3.5955e-04 - val_loss: 0.0042\n",
            "Epoch 7/200\n",
            "13/13 [==============================] - 0s 18ms/step - loss: 3.5381e-04 - val_loss: 0.0037\n",
            "Epoch 8/200\n",
            "13/13 [==============================] - 0s 17ms/step - loss: 3.3673e-04 - val_loss: 0.0041\n",
            "Epoch 9/200\n",
            "13/13 [==============================] - 0s 18ms/step - loss: 3.2181e-04 - val_loss: 0.0031\n",
            "Epoch 10/200\n",
            "13/13 [==============================] - 0s 18ms/step - loss: 3.3292e-04 - val_loss: 0.0030\n",
            "Epoch 11/200\n",
            "13/13 [==============================] - 0s 17ms/step - loss: 3.0527e-04 - val_loss: 0.0031\n",
            "Epoch 12/200\n",
            "13/13 [==============================] - 0s 18ms/step - loss: 2.9310e-04 - val_loss: 0.0033\n",
            "Epoch 13/200\n",
            "13/13 [==============================] - 0s 17ms/step - loss: 2.7068e-04 - val_loss: 0.0030\n",
            "Epoch 14/200\n",
            "13/13 [==============================] - 0s 18ms/step - loss: 2.6231e-04 - val_loss: 0.0027\n",
            "Epoch 15/200\n",
            "13/13 [==============================] - 0s 18ms/step - loss: 2.6301e-04 - val_loss: 0.0034\n",
            "Epoch 16/200\n",
            "13/13 [==============================] - 0s 17ms/step - loss: 2.5444e-04 - val_loss: 0.0028\n",
            "Epoch 17/200\n",
            "13/13 [==============================] - 0s 18ms/step - loss: 2.5503e-04 - val_loss: 0.0031\n",
            "Epoch 18/200\n",
            "13/13 [==============================] - 0s 18ms/step - loss: 2.3166e-04 - val_loss: 0.0027\n",
            "Epoch 19/200\n",
            "13/13 [==============================] - 0s 18ms/step - loss: 2.4239e-04 - val_loss: 0.0028\n",
            "Epoch 20/200\n",
            "13/13 [==============================] - 0s 18ms/step - loss: 2.2701e-04 - val_loss: 0.0029\n",
            "Epoch 21/200\n",
            "13/13 [==============================] - 0s 17ms/step - loss: 2.3295e-04 - val_loss: 0.0044\n",
            "Epoch 22/200\n",
            "13/13 [==============================] - 0s 17ms/step - loss: 2.2973e-04 - val_loss: 0.0033\n",
            "Epoch 23/200\n",
            "13/13 [==============================] - 0s 18ms/step - loss: 2.1886e-04 - val_loss: 0.0023\n",
            "Epoch 24/200\n",
            "13/13 [==============================] - 0s 17ms/step - loss: 2.2975e-04 - val_loss: 0.0022\n",
            "Epoch 25/200\n",
            "13/13 [==============================] - 0s 17ms/step - loss: 2.0102e-04 - val_loss: 0.0024\n",
            "Epoch 26/200\n",
            "13/13 [==============================] - 0s 17ms/step - loss: 2.0290e-04 - val_loss: 0.0032\n",
            "Epoch 27/200\n",
            "13/13 [==============================] - 0s 17ms/step - loss: 2.2198e-04 - val_loss: 0.0027\n",
            "Epoch 28/200\n",
            "13/13 [==============================] - 0s 19ms/step - loss: 2.0284e-04 - val_loss: 0.0021\n",
            "Epoch 29/200\n",
            "13/13 [==============================] - 0s 17ms/step - loss: 2.0791e-04 - val_loss: 0.0026\n",
            "Epoch 30/200\n",
            "13/13 [==============================] - 0s 18ms/step - loss: 1.9669e-04 - val_loss: 0.0024\n",
            "Epoch 31/200\n",
            "13/13 [==============================] - 0s 18ms/step - loss: 1.9709e-04 - val_loss: 0.0026\n",
            "Epoch 32/200\n",
            "13/13 [==============================] - 0s 18ms/step - loss: 1.9114e-04 - val_loss: 0.0021\n",
            "Epoch 33/200\n",
            "13/13 [==============================] - 0s 18ms/step - loss: 1.7417e-04 - val_loss: 0.0021\n",
            "Epoch 34/200\n",
            "13/13 [==============================] - 0s 18ms/step - loss: 1.7888e-04 - val_loss: 0.0021\n",
            "Epoch 35/200\n",
            "13/13 [==============================] - 0s 17ms/step - loss: 1.8187e-04 - val_loss: 0.0029\n",
            "Epoch 36/200\n",
            "13/13 [==============================] - 0s 18ms/step - loss: 1.7660e-04 - val_loss: 0.0024\n",
            "Epoch 37/200\n",
            "13/13 [==============================] - 0s 18ms/step - loss: 1.8702e-04 - val_loss: 0.0023\n",
            "Epoch 38/200\n",
            "13/13 [==============================] - 0s 18ms/step - loss: 1.6713e-04 - val_loss: 0.0021\n",
            "Epoch 39/200\n",
            "13/13 [==============================] - 0s 19ms/step - loss: 1.6760e-04 - val_loss: 0.0020\n",
            "Epoch 40/200\n",
            "13/13 [==============================] - 0s 18ms/step - loss: 1.7669e-04 - val_loss: 0.0022\n",
            "Epoch 41/200\n",
            "13/13 [==============================] - 0s 19ms/step - loss: 1.6697e-04 - val_loss: 0.0022\n",
            "Epoch 42/200\n",
            "13/13 [==============================] - 0s 18ms/step - loss: 1.7960e-04 - val_loss: 0.0025\n",
            "Epoch 43/200\n",
            "13/13 [==============================] - 0s 18ms/step - loss: 1.7565e-04 - val_loss: 0.0022\n",
            "Epoch 44/200\n",
            "13/13 [==============================] - 0s 19ms/step - loss: 1.8381e-04 - val_loss: 0.0019\n",
            "Epoch 45/200\n",
            "13/13 [==============================] - 0s 19ms/step - loss: 2.0274e-04 - val_loss: 0.0021\n",
            "Epoch 46/200\n",
            "13/13 [==============================] - 0s 18ms/step - loss: 1.7219e-04 - val_loss: 0.0023\n",
            "Epoch 47/200\n",
            "13/13 [==============================] - 0s 19ms/step - loss: 1.8555e-04 - val_loss: 0.0018\n",
            "Epoch 48/200\n",
            "13/13 [==============================] - 0s 18ms/step - loss: 1.6322e-04 - val_loss: 0.0019\n",
            "Epoch 49/200\n",
            "13/13 [==============================] - 0s 20ms/step - loss: 1.8009e-04 - val_loss: 0.0018\n",
            "Epoch 50/200\n",
            "13/13 [==============================] - 0s 19ms/step - loss: 1.7031e-04 - val_loss: 0.0022\n",
            "Epoch 51/200\n",
            "13/13 [==============================] - 0s 18ms/step - loss: 1.7027e-04 - val_loss: 0.0022\n",
            "Epoch 52/200\n",
            "13/13 [==============================] - 0s 19ms/step - loss: 1.5321e-04 - val_loss: 0.0022\n",
            "Epoch 53/200\n",
            "13/13 [==============================] - 0s 19ms/step - loss: 1.6387e-04 - val_loss: 0.0017\n",
            "Epoch 54/200\n",
            "13/13 [==============================] - 0s 18ms/step - loss: 1.5830e-04 - val_loss: 0.0020\n",
            "Epoch 55/200\n",
            "13/13 [==============================] - 0s 18ms/step - loss: 1.6950e-04 - val_loss: 0.0026\n",
            "Epoch 56/200\n",
            "13/13 [==============================] - 0s 18ms/step - loss: 1.5966e-04 - val_loss: 0.0017\n",
            "Epoch 57/200\n",
            "13/13 [==============================] - 0s 19ms/step - loss: 1.5364e-04 - val_loss: 0.0017\n",
            "Epoch 58/200\n",
            "13/13 [==============================] - 0s 19ms/step - loss: 1.6658e-04 - val_loss: 0.0016\n",
            "Epoch 59/200\n",
            "13/13 [==============================] - 0s 18ms/step - loss: 1.5658e-04 - val_loss: 0.0017\n",
            "Epoch 60/200\n",
            "13/13 [==============================] - 0s 20ms/step - loss: 1.7953e-04 - val_loss: 0.0016\n",
            "Epoch 61/200\n",
            "13/13 [==============================] - 0s 19ms/step - loss: 1.5110e-04 - val_loss: 0.0022\n",
            "Epoch 62/200\n",
            "13/13 [==============================] - 0s 19ms/step - loss: 1.5221e-04 - val_loss: 0.0019\n",
            "Epoch 63/200\n",
            "13/13 [==============================] - 0s 18ms/step - loss: 1.4982e-04 - val_loss: 0.0016\n",
            "Epoch 64/200\n",
            "13/13 [==============================] - 0s 18ms/step - loss: 1.4427e-04 - val_loss: 0.0017\n",
            "Epoch 65/200\n",
            "13/13 [==============================] - 0s 19ms/step - loss: 1.5982e-04 - val_loss: 0.0015\n",
            "Epoch 66/200\n",
            "13/13 [==============================] - 0s 19ms/step - loss: 1.6018e-04 - val_loss: 0.0014\n",
            "Epoch 67/200\n",
            "13/13 [==============================] - 0s 19ms/step - loss: 1.4241e-04 - val_loss: 0.0017\n",
            "Epoch 68/200\n",
            "13/13 [==============================] - 0s 19ms/step - loss: 1.6341e-04 - val_loss: 0.0029\n",
            "Epoch 69/200\n",
            "13/13 [==============================] - 0s 19ms/step - loss: 1.4110e-04 - val_loss: 0.0015\n",
            "Epoch 70/200\n",
            "13/13 [==============================] - 0s 19ms/step - loss: 1.3875e-04 - val_loss: 0.0015\n",
            "Epoch 71/200\n",
            "13/13 [==============================] - 0s 19ms/step - loss: 1.3874e-04 - val_loss: 0.0017\n",
            "Epoch 72/200\n",
            "13/13 [==============================] - 0s 19ms/step - loss: 1.3821e-04 - val_loss: 0.0014\n",
            "Epoch 73/200\n",
            "13/13 [==============================] - 0s 20ms/step - loss: 1.3694e-04 - val_loss: 0.0028\n",
            "Epoch 74/200\n",
            "13/13 [==============================] - 0s 19ms/step - loss: 1.9816e-04 - val_loss: 0.0017\n",
            "Epoch 75/200\n",
            "13/13 [==============================] - 0s 18ms/step - loss: 1.5457e-04 - val_loss: 0.0013\n",
            "Epoch 76/200\n",
            "13/13 [==============================] - 0s 18ms/step - loss: 1.3945e-04 - val_loss: 0.0016\n",
            "Epoch 77/200\n",
            "13/13 [==============================] - 0s 19ms/step - loss: 1.3655e-04 - val_loss: 0.0028\n",
            "Epoch 78/200\n",
            "13/13 [==============================] - 0s 19ms/step - loss: 1.7177e-04 - val_loss: 0.0024\n",
            "Epoch 79/200\n",
            "13/13 [==============================] - 0s 19ms/step - loss: 1.7655e-04 - val_loss: 0.0024\n",
            "Epoch 80/200\n",
            "13/13 [==============================] - 0s 19ms/step - loss: 1.3214e-04 - val_loss: 0.0019\n",
            "Epoch 81/200\n",
            "13/13 [==============================] - 0s 19ms/step - loss: 1.3849e-04 - val_loss: 0.0012\n",
            "Epoch 82/200\n",
            "13/13 [==============================] - 0s 21ms/step - loss: 1.3224e-04 - val_loss: 0.0012\n",
            "Epoch 83/200\n",
            "13/13 [==============================] - 0s 19ms/step - loss: 1.3088e-04 - val_loss: 0.0022\n",
            "Epoch 84/200\n",
            "13/13 [==============================] - 0s 19ms/step - loss: 1.2848e-04 - val_loss: 0.0011\n",
            "Epoch 85/200\n",
            "13/13 [==============================] - 0s 19ms/step - loss: 1.2652e-04 - val_loss: 0.0013\n",
            "Epoch 86/200\n",
            "13/13 [==============================] - 0s 19ms/step - loss: 1.4835e-04 - val_loss: 0.0021\n",
            "Epoch 87/200\n",
            "13/13 [==============================] - 0s 19ms/step - loss: 1.3478e-04 - val_loss: 0.0018\n",
            "Epoch 88/200\n",
            "13/13 [==============================] - 0s 18ms/step - loss: 1.3668e-04 - val_loss: 0.0033\n",
            "Epoch 89/200\n",
            "13/13 [==============================] - 0s 20ms/step - loss: 1.2976e-04 - val_loss: 0.0011\n",
            "Epoch 90/200\n",
            "13/13 [==============================] - 0s 19ms/step - loss: 1.2199e-04 - val_loss: 0.0024\n",
            "Epoch 91/200\n",
            "13/13 [==============================] - 0s 19ms/step - loss: 1.3324e-04 - val_loss: 0.0012\n",
            "Epoch 92/200\n",
            "13/13 [==============================] - 0s 19ms/step - loss: 1.1955e-04 - val_loss: 0.0015\n",
            "Epoch 93/200\n",
            "13/13 [==============================] - 0s 19ms/step - loss: 1.1885e-04 - val_loss: 0.0017\n",
            "Epoch 94/200\n",
            "13/13 [==============================] - 0s 20ms/step - loss: 1.1764e-04 - val_loss: 0.0020\n",
            "Epoch 95/200\n",
            "13/13 [==============================] - 0s 19ms/step - loss: 1.3044e-04 - val_loss: 0.0015\n",
            "Epoch 96/200\n",
            "13/13 [==============================] - 0s 18ms/step - loss: 1.3836e-04 - val_loss: 0.0011\n",
            "Epoch 97/200\n",
            "13/13 [==============================] - 0s 19ms/step - loss: 1.1683e-04 - val_loss: 0.0011\n",
            "Epoch 98/200\n",
            "13/13 [==============================] - 0s 19ms/step - loss: 1.1660e-04 - val_loss: 0.0012\n",
            "Epoch 99/200\n",
            "13/13 [==============================] - 0s 19ms/step - loss: 1.1026e-04 - val_loss: 0.0011\n",
            "Epoch 100/200\n",
            "13/13 [==============================] - 0s 18ms/step - loss: 1.2307e-04 - val_loss: 0.0034\n",
            "Epoch 101/200\n",
            "13/13 [==============================] - 0s 19ms/step - loss: 1.2592e-04 - val_loss: 0.0010\n",
            "Epoch 102/200\n",
            "13/13 [==============================] - 0s 19ms/step - loss: 1.3165e-04 - val_loss: 0.0023\n",
            "Epoch 103/200\n",
            "13/13 [==============================] - 0s 19ms/step - loss: 1.4516e-04 - val_loss: 0.0010\n",
            "Epoch 104/200\n",
            "13/13 [==============================] - 0s 18ms/step - loss: 1.5112e-04 - val_loss: 0.0010\n",
            "Epoch 105/200\n",
            "13/13 [==============================] - 0s 18ms/step - loss: 1.0573e-04 - val_loss: 7.6695e-04\n",
            "Epoch 106/200\n",
            "13/13 [==============================] - 0s 19ms/step - loss: 1.1379e-04 - val_loss: 0.0012\n",
            "Epoch 107/200\n",
            "13/13 [==============================] - 0s 19ms/step - loss: 1.1011e-04 - val_loss: 9.4183e-04\n",
            "Epoch 108/200\n",
            "13/13 [==============================] - 0s 19ms/step - loss: 1.0354e-04 - val_loss: 8.9448e-04\n",
            "Epoch 109/200\n",
            "13/13 [==============================] - 0s 19ms/step - loss: 1.0242e-04 - val_loss: 0.0011\n",
            "Epoch 110/200\n",
            "13/13 [==============================] - 0s 19ms/step - loss: 1.0253e-04 - val_loss: 0.0014\n",
            "Epoch 111/200\n",
            "13/13 [==============================] - 0s 20ms/step - loss: 1.0106e-04 - val_loss: 0.0020\n",
            "Epoch 112/200\n",
            "13/13 [==============================] - 0s 18ms/step - loss: 1.0306e-04 - val_loss: 0.0011\n",
            "Epoch 113/200\n",
            "13/13 [==============================] - 0s 19ms/step - loss: 9.6256e-05 - val_loss: 7.9943e-04\n",
            "Epoch 114/200\n",
            "13/13 [==============================] - 0s 19ms/step - loss: 9.2933e-05 - val_loss: 9.6095e-04\n",
            "Epoch 115/200\n",
            "13/13 [==============================] - 0s 19ms/step - loss: 9.5775e-05 - val_loss: 0.0012\n",
            "Epoch 116/200\n",
            "13/13 [==============================] - 0s 19ms/step - loss: 9.4000e-05 - val_loss: 8.1395e-04\n",
            "Epoch 117/200\n",
            "13/13 [==============================] - 0s 19ms/step - loss: 9.5663e-05 - val_loss: 0.0011\n",
            "Epoch 118/200\n",
            "13/13 [==============================] - 0s 19ms/step - loss: 9.0596e-05 - val_loss: 0.0017\n",
            "Epoch 119/200\n",
            "13/13 [==============================] - 0s 20ms/step - loss: 9.2275e-05 - val_loss: 0.0019\n",
            "Epoch 120/200\n",
            "13/13 [==============================] - 0s 19ms/step - loss: 9.0264e-05 - val_loss: 0.0010\n",
            "Epoch 121/200\n",
            "13/13 [==============================] - 0s 19ms/step - loss: 8.6838e-05 - val_loss: 0.0015\n",
            "Epoch 122/200\n",
            "13/13 [==============================] - 0s 19ms/step - loss: 8.4055e-05 - val_loss: 7.8970e-04\n",
            "Epoch 123/200\n",
            "13/13 [==============================] - 0s 20ms/step - loss: 8.1231e-05 - val_loss: 0.0025\n",
            "Epoch 124/200\n",
            "13/13 [==============================] - 0s 20ms/step - loss: 8.4394e-05 - val_loss: 5.7992e-04\n",
            "Epoch 125/200\n",
            "13/13 [==============================] - 0s 20ms/step - loss: 8.3283e-05 - val_loss: 9.3391e-04\n",
            "Epoch 126/200\n",
            "13/13 [==============================] - 0s 18ms/step - loss: 7.7602e-05 - val_loss: 0.0022\n",
            "Epoch 127/200\n",
            "13/13 [==============================] - 0s 20ms/step - loss: 8.3594e-05 - val_loss: 0.0016\n",
            "Epoch 128/200\n",
            "13/13 [==============================] - 0s 18ms/step - loss: 7.4930e-05 - val_loss: 5.9786e-04\n",
            "Epoch 129/200\n",
            "13/13 [==============================] - 0s 18ms/step - loss: 8.3469e-05 - val_loss: 0.0017\n",
            "Epoch 130/200\n",
            "13/13 [==============================] - 0s 19ms/step - loss: 9.1981e-05 - val_loss: 0.0023\n",
            "Epoch 131/200\n",
            "13/13 [==============================] - 0s 20ms/step - loss: 7.3020e-05 - val_loss: 0.0020\n",
            "Epoch 132/200\n",
            "13/13 [==============================] - 0s 18ms/step - loss: 7.2689e-05 - val_loss: 0.0018\n",
            "Epoch 133/200\n",
            "13/13 [==============================] - 0s 19ms/step - loss: 7.2563e-05 - val_loss: 0.0018\n",
            "Epoch 134/200\n",
            "13/13 [==============================] - 0s 19ms/step - loss: 8.8327e-05 - val_loss: 5.2388e-04\n",
            "Epoch 135/200\n",
            "13/13 [==============================] - 0s 18ms/step - loss: 7.9934e-05 - val_loss: 8.5025e-04\n",
            "Epoch 136/200\n",
            "13/13 [==============================] - 0s 17ms/step - loss: 9.0086e-05 - val_loss: 0.0036\n",
            "Epoch 137/200\n",
            "13/13 [==============================] - 0s 18ms/step - loss: 7.4967e-05 - val_loss: 0.0012\n",
            "Epoch 138/200\n",
            "13/13 [==============================] - 0s 18ms/step - loss: 6.9311e-05 - val_loss: 6.0122e-04\n",
            "Epoch 139/200\n",
            "13/13 [==============================] - 0s 17ms/step - loss: 7.7296e-05 - val_loss: 0.0014\n",
            "Epoch 140/200\n",
            "13/13 [==============================] - 0s 18ms/step - loss: 6.3557e-05 - val_loss: 6.5073e-04\n",
            "Epoch 141/200\n",
            "13/13 [==============================] - 0s 18ms/step - loss: 6.2447e-05 - val_loss: 0.0013\n",
            "Epoch 142/200\n",
            "13/13 [==============================] - 0s 18ms/step - loss: 6.3763e-05 - val_loss: 6.1185e-04\n",
            "Epoch 143/200\n",
            "13/13 [==============================] - 0s 18ms/step - loss: 7.0925e-05 - val_loss: 0.0012\n",
            "Epoch 144/200\n",
            "13/13 [==============================] - 0s 19ms/step - loss: 6.0960e-05 - val_loss: 0.0010\n",
            "Epoch 145/200\n",
            "13/13 [==============================] - 0s 17ms/step - loss: 6.1796e-05 - val_loss: 6.8391e-04\n",
            "Epoch 146/200\n",
            "13/13 [==============================] - 0s 18ms/step - loss: 6.5571e-05 - val_loss: 8.3460e-04\n",
            "Epoch 147/200\n",
            "13/13 [==============================] - 0s 18ms/step - loss: 6.2171e-05 - val_loss: 6.9323e-04\n",
            "Epoch 148/200\n",
            "13/13 [==============================] - 0s 19ms/step - loss: 6.0102e-05 - val_loss: 0.0015\n",
            "Epoch 149/200\n",
            "13/13 [==============================] - 0s 18ms/step - loss: 5.8806e-05 - val_loss: 5.9235e-04\n",
            "Epoch 150/200\n",
            "13/13 [==============================] - 0s 20ms/step - loss: 6.1225e-05 - val_loss: 5.8169e-04\n",
            "Epoch 151/200\n",
            "13/13 [==============================] - 0s 18ms/step - loss: 7.8816e-05 - val_loss: 7.5147e-04\n",
            "Epoch 152/200\n",
            "13/13 [==============================] - 0s 17ms/step - loss: 9.2029e-05 - val_loss: 0.0019\n",
            "Epoch 153/200\n",
            "13/13 [==============================] - 0s 19ms/step - loss: 6.6866e-05 - val_loss: 6.1160e-04\n",
            "Epoch 154/200\n",
            "13/13 [==============================] - 0s 18ms/step - loss: 5.8262e-05 - val_loss: 5.9232e-04\n",
            "Epoch 155/200\n",
            "13/13 [==============================] - 0s 18ms/step - loss: 6.4279e-05 - val_loss: 6.5511e-04\n",
            "Epoch 156/200\n",
            "13/13 [==============================] - 0s 18ms/step - loss: 6.1661e-05 - val_loss: 6.7023e-04\n",
            "Epoch 157/200\n",
            "13/13 [==============================] - 0s 17ms/step - loss: 5.6955e-05 - val_loss: 8.9281e-04\n",
            "Epoch 158/200\n",
            "13/13 [==============================] - 0s 17ms/step - loss: 5.6575e-05 - val_loss: 0.0011\n",
            "Epoch 159/200\n",
            "13/13 [==============================] - 0s 19ms/step - loss: 7.6231e-05 - val_loss: 5.9253e-04\n",
            "Epoch 160/200\n",
            "13/13 [==============================] - 0s 17ms/step - loss: 6.4826e-05 - val_loss: 0.0011\n",
            "Epoch 161/200\n",
            "13/13 [==============================] - 0s 19ms/step - loss: 6.8664e-05 - val_loss: 7.2286e-04\n",
            "Epoch 162/200\n",
            "13/13 [==============================] - 0s 18ms/step - loss: 5.6529e-05 - val_loss: 8.4302e-04\n",
            "Epoch 163/200\n",
            "13/13 [==============================] - 0s 18ms/step - loss: 5.7241e-05 - val_loss: 9.8347e-04\n",
            "Epoch 164/200\n",
            "13/13 [==============================] - 0s 18ms/step - loss: 5.5730e-05 - val_loss: 7.3856e-04\n",
            "Epoch 165/200\n",
            "13/13 [==============================] - 0s 18ms/step - loss: 5.3753e-05 - val_loss: 0.0013\n",
            "Epoch 166/200\n",
            "13/13 [==============================] - 0s 19ms/step - loss: 5.7741e-05 - val_loss: 0.0016\n",
            "Epoch 167/200\n",
            "13/13 [==============================] - 0s 19ms/step - loss: 6.5975e-05 - val_loss: 7.0482e-04\n",
            "Epoch 168/200\n",
            "13/13 [==============================] - 0s 18ms/step - loss: 6.0332e-05 - val_loss: 0.0011\n",
            "Epoch 169/200\n",
            "13/13 [==============================] - 0s 18ms/step - loss: 6.0490e-05 - val_loss: 9.9470e-04\n",
            "Epoch 170/200\n",
            "13/13 [==============================] - 0s 18ms/step - loss: 6.4909e-05 - val_loss: 8.1024e-04\n",
            "Epoch 171/200\n",
            "13/13 [==============================] - 0s 17ms/step - loss: 6.3037e-05 - val_loss: 6.6322e-04\n",
            "Epoch 172/200\n",
            "13/13 [==============================] - 0s 18ms/step - loss: 7.1218e-05 - val_loss: 6.3946e-04\n",
            "Epoch 173/200\n",
            "13/13 [==============================] - 0s 18ms/step - loss: 7.1357e-05 - val_loss: 0.0017\n",
            "Epoch 174/200\n",
            "13/13 [==============================] - 0s 18ms/step - loss: 6.0430e-05 - val_loss: 0.0012\n",
            "Epoch 175/200\n",
            "13/13 [==============================] - 0s 17ms/step - loss: 6.0176e-05 - val_loss: 0.0012\n",
            "Epoch 176/200\n",
            "13/13 [==============================] - 0s 18ms/step - loss: 6.1379e-05 - val_loss: 8.8041e-04\n",
            "Epoch 177/200\n",
            "13/13 [==============================] - 0s 18ms/step - loss: 5.4320e-05 - val_loss: 8.0869e-04\n",
            "Epoch 178/200\n",
            "13/13 [==============================] - 0s 17ms/step - loss: 5.3342e-05 - val_loss: 0.0010\n",
            "Epoch 179/200\n",
            "13/13 [==============================] - 0s 18ms/step - loss: 5.3986e-05 - val_loss: 0.0014\n",
            "Epoch 180/200\n",
            "13/13 [==============================] - 0s 18ms/step - loss: 5.6220e-05 - val_loss: 7.0023e-04\n",
            "Epoch 181/200\n",
            "13/13 [==============================] - 0s 17ms/step - loss: 6.1024e-05 - val_loss: 0.0013\n",
            "Epoch 182/200\n",
            "13/13 [==============================] - 0s 18ms/step - loss: 5.3134e-05 - val_loss: 0.0011\n",
            "Epoch 183/200\n",
            "13/13 [==============================] - 0s 18ms/step - loss: 7.6381e-05 - val_loss: 0.0027\n",
            "Epoch 184/200\n",
            "13/13 [==============================] - 0s 17ms/step - loss: 8.5198e-05 - val_loss: 9.5271e-04\n",
            "Epoch 185/200\n",
            "13/13 [==============================] - 0s 19ms/step - loss: 7.9296e-05 - val_loss: 6.9470e-04\n",
            "Epoch 186/200\n",
            "13/13 [==============================] - 0s 18ms/step - loss: 5.7740e-05 - val_loss: 7.7932e-04\n",
            "Epoch 187/200\n",
            "13/13 [==============================] - 0s 19ms/step - loss: 5.2584e-05 - val_loss: 8.8005e-04\n",
            "Epoch 188/200\n",
            "13/13 [==============================] - 0s 17ms/step - loss: 5.1000e-05 - val_loss: 6.9966e-04\n",
            "Epoch 189/200\n",
            "13/13 [==============================] - 0s 18ms/step - loss: 5.3144e-05 - val_loss: 0.0010\n",
            "Epoch 190/200\n",
            "13/13 [==============================] - 0s 18ms/step - loss: 5.1495e-05 - val_loss: 7.6347e-04\n",
            "Epoch 191/200\n",
            "13/13 [==============================] - 0s 18ms/step - loss: 5.3481e-05 - val_loss: 8.4098e-04\n",
            "Epoch 192/200\n",
            "13/13 [==============================] - 0s 18ms/step - loss: 5.3197e-05 - val_loss: 7.2991e-04\n",
            "Epoch 193/200\n",
            "13/13 [==============================] - 0s 18ms/step - loss: 5.1894e-05 - val_loss: 0.0012\n",
            "Epoch 194/200\n",
            "13/13 [==============================] - 0s 17ms/step - loss: 5.5334e-05 - val_loss: 7.6674e-04\n",
            "Epoch 195/200\n",
            "13/13 [==============================] - 0s 18ms/step - loss: 5.7059e-05 - val_loss: 0.0011\n",
            "Epoch 196/200\n",
            "13/13 [==============================] - 0s 18ms/step - loss: 5.5341e-05 - val_loss: 7.3957e-04\n",
            "Epoch 197/200\n",
            "13/13 [==============================] - 0s 18ms/step - loss: 5.8064e-05 - val_loss: 7.0780e-04\n",
            "Epoch 198/200\n",
            "13/13 [==============================] - 0s 18ms/step - loss: 5.4365e-05 - val_loss: 9.0191e-04\n",
            "Epoch 199/200\n",
            "13/13 [==============================] - 0s 18ms/step - loss: 5.0718e-05 - val_loss: 8.7990e-04\n",
            "Epoch 200/200\n",
            "13/13 [==============================] - 0s 19ms/step - loss: 6.6698e-05 - val_loss: 7.5076e-04\n"
          ],
          "name": "stdout"
        },
        {
          "output_type": "execute_result",
          "data": {
            "text/plain": [
              "<tensorflow.python.keras.callbacks.History at 0x7fc4502b1310>"
            ]
          },
          "metadata": {
            "tags": []
          },
          "execution_count": 18
        }
      ]
    },
    {
      "cell_type": "code",
      "metadata": {
        "colab": {
          "base_uri": "https://localhost:8080/",
          "height": 35
        },
        "id": "58qjACj0CgcX",
        "outputId": "b87dd3ba-e530-40e9-e03f-8f5e5f286a1f"
      },
      "source": [
        "import tensorflow as tf\n",
        "tf.__version__"
      ],
      "execution_count": 19,
      "outputs": [
        {
          "output_type": "execute_result",
          "data": {
            "application/vnd.google.colaboratory.intrinsic+json": {
              "type": "string"
            },
            "text/plain": [
              "'2.5.0'"
            ]
          },
          "metadata": {
            "tags": []
          },
          "execution_count": 19
        }
      ]
    },
    {
      "cell_type": "code",
      "metadata": {
        "id": "eAEXkJzaCof7"
      },
      "source": [
        "### Lets Do the prediction and check performance metrics\n",
        "train_predict = model.predict(X_train)\n",
        "test_predict = model.predict(X_test)\n",
        "\n",
        "\n",
        "##Transform back to original form\n",
        "train_predict = scaler.inverse_transform(train_predict)\n",
        "test_predict = scaler.inverse_transform(test_predict)"
      ],
      "execution_count": 20,
      "outputs": []
    },
    {
      "cell_type": "code",
      "metadata": {
        "colab": {
          "base_uri": "https://localhost:8080/"
        },
        "id": "hpxPGSihDFPb",
        "outputId": "96566c1a-71f1-4b0f-f86b-24cf53af7bb1"
      },
      "source": [
        "### Calculate RMSE performance metrics\n",
        "import math\n",
        "from sklearn.metrics import mean_squared_error\n",
        "math.sqrt(mean_squared_error(y_train, train_predict))"
      ],
      "execution_count": 21,
      "outputs": [
        {
          "output_type": "execute_result",
          "data": {
            "text/plain": [
              "22.324013550212968"
            ]
          },
          "metadata": {
            "tags": []
          },
          "execution_count": 21
        }
      ]
    },
    {
      "cell_type": "code",
      "metadata": {
        "colab": {
          "base_uri": "https://localhost:8080/"
        },
        "id": "dWrxy_0rDtzb",
        "outputId": "eac06b76-619f-43fb-f700-e9f50a8ad142"
      },
      "source": [
        "### Test Data RMSE\n",
        "math.sqrt(mean_squared_error(y_test, test_predict))"
      ],
      "execution_count": 22,
      "outputs": [
        {
          "output_type": "execute_result",
          "data": {
            "text/plain": [
              "82.29625624251457"
            ]
          },
          "metadata": {
            "tags": []
          },
          "execution_count": 22
        }
      ]
    },
    {
      "cell_type": "code",
      "metadata": {
        "colab": {
          "base_uri": "https://localhost:8080/",
          "height": 433
        },
        "id": "G_VmfaMTD11c",
        "outputId": "4c316cf7-ea91-46f3-d989-71d68d86003e"
      },
      "source": [
        "### Plotting \n",
        "# shift train predictions for plotting\n",
        "look_back = 100\n",
        "trainPredictPlot = numpy.empty_like(df1)\n",
        "trainPredictPlot[:, :] = np.nan\n",
        "trainPredictPlot[look_back:len(train_predict) + look_back, :] = train_predict\n",
        "\n",
        "# shift test predictions for plotting\n",
        "testPredictPlot = numpy.empty_like(df1)\n",
        "testPredictPlot[:, :] = numpy.nan\n",
        "testPredictPlot[len(train_predict) + (look_back*2) + 1:len(df1) - 1, :] = test_predict\n",
        "\n",
        "# plot baseline and predictions\n",
        "plt.rcParams[\"figure.figsize\"] = (20,8)\n",
        "plt.plot(scaler.inverse_transform(df1), ls = 'solid', label = \"All data\")\n",
        "plt.plot(trainPredictPlot, ls = 'dashed', label = \"train data\")\n",
        "plt.plot(testPredictPlot, ls = 'dotted', label = \"test data\")\n",
        "plt.show()"
      ],
      "execution_count": 23,
      "outputs": [
        {
          "output_type": "display_data",
          "data": {
            "image/png": "[encoded data removed]",
            "text/plain": [
              "<Figure size 1440x576 with 1 Axes>"
            ]
          },
          "metadata": {
            "tags": [],
            "needs_background": "light"
          }
        }
      ]
    },
    {
      "cell_type": "code",
      "metadata": {
        "colab": {
          "base_uri": "https://localhost:8080/"
        },
        "id": "ZVIkxoBMEEjf",
        "outputId": "e7b41de0-d205-4655-a827-7787dcab6a3d"
      },
      "source": [
        "len(test_data)"
      ],
      "execution_count": 24,
      "outputs": [
        {
          "output_type": "execute_result",
          "data": {
            "text/plain": [
              "378"
            ]
          },
          "metadata": {
            "tags": []
          },
          "execution_count": 24
        }
      ]
    },
    {
      "cell_type": "code",
      "metadata": {
        "colab": {
          "base_uri": "https://localhost:8080/"
        },
        "id": "yUjbwamVEFv0",
        "outputId": "f2e615a6-b46a-4711-8b56-0462e25b6c35"
      },
      "source": [
        "x_input = test_data[278:].reshape(1, -1)\n",
        "x_input.shape"
      ],
      "execution_count": 25,
      "outputs": [
        {
          "output_type": "execute_result",
          "data": {
            "text/plain": [
              "(1, 100)"
            ]
          },
          "metadata": {
            "tags": []
          },
          "execution_count": 25
        }
      ]
    },
    {
      "cell_type": "code",
      "metadata": {
        "id": "YrVAlLsNENbT"
      },
      "source": [
        "temp_input = list(x_input)\n",
        "temp_input = temp_input[0].tolist()"
      ],
      "execution_count": 26,
      "outputs": []
    },
    {
      "cell_type": "code",
      "metadata": {
        "colab": {
          "base_uri": "https://localhost:8080/"
        },
        "id": "DnMMTpQFES-c",
        "outputId": "71856d09-f9fc-4f3c-b9de-edf7bfe89764"
      },
      "source": [
        "temp_input"
      ],
      "execution_count": 27,
      "outputs": [
        {
          "output_type": "execute_result",
          "data": {
            "text/plain": [
              "[0.6802618773776873,\n",
              " 0.6403609661151907,\n",
              " 0.6486773422985048,\n",
              " 0.659647881093515,\n",
              " 0.6426612403786605,\n",
              " 0.6258515438379192,\n",
              " 0.6235512695744493,\n",
              " 0.6340794479341768,\n",
              " 0.6316907015836504,\n",
              " 0.6216048836592055,\n",
              " 0.643722905423339,\n",
              " 0.6666371759709812,\n",
              " 0.6696452269309033,\n",
              " 0.6697336990179599,\n",
              " 0.6764575776342564,\n",
              " 0.6866318676457577,\n",
              " 0.6814120145094223,\n",
              " 0.6444306821197913,\n",
              " 0.6586746881358931,\n",
              " 0.6441652658586215,\n",
              " 0.6836238166858357,\n",
              " 0.6760152171989738,\n",
              " 0.6668141201450942,\n",
              " 0.650535256126692,\n",
              " 0.671237724497921,\n",
              " 0.6486773422985048,\n",
              " 0.6814120145094223,\n",
              " 0.7048571175794037,\n",
              " 0.703087675838273,\n",
              " 0.6925594974785455,\n",
              " 0.6915863045209236,\n",
              " 0.6713261965849775,\n",
              " 0.6441652658586215,\n",
              " 0.6446960983809609,\n",
              " 0.6377952755905512,\n",
              " 0.6383261081128904,\n",
              " 0.6464655401220916,\n",
              " 0.621516411572149,\n",
              " 0.6289480668848978,\n",
              " 0.609572679819517,\n",
              " 0.5958595063257542,\n",
              " 0.6091303193842343,\n",
              " 0.6096611519065736,\n",
              " 0.6078032380783863,\n",
              " 0.6236397416615058,\n",
              " 0.6398301335928515,\n",
              " 0.63195611784482,\n",
              " 0.6343448641953464,\n",
              " 0.6380606918517208,\n",
              " 0.6423073520304344,\n",
              " 0.6430151287268867,\n",
              " 0.6577014951782713,\n",
              " 0.6641599575333983,\n",
              " 0.6744227196319561,\n",
              " 0.659470936919402,\n",
              " 0.6709723082367514,\n",
              " 0.668937450234451,\n",
              " 0.6648677342298505,\n",
              " 0.6566398301335928,\n",
              " 0.6707953640626383,\n",
              " 0.6685835618862249,\n",
              " 0.6707068919755816,\n",
              " 0.6611519065734761,\n",
              " 0.6579669114394409,\n",
              " 0.6973369901795984,\n",
              " 0.6981332389631072,\n",
              " 0.6799079890294613,\n",
              " 0.6886667256480581,\n",
              " 0.6907900557374148,\n",
              " 0.7109616915863045,\n",
              " 0.706715031407591,\n",
              " 0.7196319561178448,\n",
              " 0.7412191453596391,\n",
              " 0.7802353357515704,\n",
              " 0.7747500663540653,\n",
              " 0.7870476864549235,\n",
              " 0.7850128284526232,\n",
              " 0.7502432982394055,\n",
              " 0.7431655312748827,\n",
              " 0.7534282933734407,\n",
              " 0.7526320445899319,\n",
              " 0.7477660798018226,\n",
              " 0.7370609572679819,\n",
              " 0.7183048748119969,\n",
              " 0.7091037777581173,\n",
              " 0.7152083517650182,\n",
              " 0.7198973723790144,\n",
              " 0.7402459524020172,\n",
              " 0.7561709280721932,\n",
              " 0.7644873042555075,\n",
              " 0.7615677253826417,\n",
              " 0.7545784305051756,\n",
              " 0.8156241705741839,\n",
              " 0.8600371582765638,\n",
              " 0.8887021144828806,\n",
              " 0.9102893037246749,\n",
              " 0.9450588339378926,\n",
              " 1.0,\n",
              " 0.9432009201097054,\n",
              " 0.9233831726090419]"
            ]
          },
          "metadata": {
            "tags": []
          },
          "execution_count": 27
        }
      ]
    },
    {
      "cell_type": "code",
      "metadata": {
        "colab": {
          "base_uri": "https://localhost:8080/"
        },
        "id": "FsxtzUfOEYTc",
        "outputId": "6370a9bc-7944-4716-ee61-0eaaf97c8656"
      },
      "source": [
        "# demonstrate prediction for next 10 days\n",
        "from numpy import array\n",
        "\n",
        "lst_output = []\n",
        "n_steps = 100\n",
        "i = 0\n",
        "while(i < 30):\n",
        "    \n",
        "    if(len(temp_input) > 100):\n",
        "        #print(temp_input)\n",
        "        x_input = np.array(temp_input[1:])\n",
        "        print(\"{} day input {}\".format(i, x_input))\n",
        "        x_input = x_input.reshape(1, -1)\n",
        "        x_input = x_input.reshape((1, n_steps, 1))\n",
        "        #print(x_input)\n",
        "        yhat = model.predict(x_input, verbose=0)\n",
        "        print(\"{} day output {}\".format(i, yhat))\n",
        "        temp_input.extend(yhat[0].tolist())\n",
        "        temp_input = temp_input[1:]\n",
        "        #print(temp_input)\n",
        "        lst_output.extend(yhat.tolist())\n",
        "        i = i + 1\n",
        "    else:\n",
        "        x_input = x_input.reshape((1, n_steps, 1))\n",
        "        yhat = model.predict(x_input, verbose = 0)\n",
        "        print(yhat[0])\n",
        "        temp_input.extend(yhat[0].tolist())\n",
        "        print(len(temp_input))\n",
        "        lst_output.extend(yhat.tolist())\n",
        "        i = i + 1\n",
        "    \n",
        "\n",
        "print(lst_output)"
      ],
      "execution_count": 28,
      "outputs": [
        {
          "output_type": "stream",
          "text": [
            "[0.94364065]\n",
            "101\n",
            "1 day input [0.64036097 0.64867734 0.65964788 0.64266124 0.62585154 0.62355127\n",
            " 0.63407945 0.6316907  0.62160488 0.64372291 0.66663718 0.66964523\n",
            " 0.6697337  0.67645758 0.68663187 0.68141201 0.64443068 0.65867469\n",
            " 0.64416527 0.68362382 0.67601522 0.66681412 0.65053526 0.67123772\n",
            " 0.64867734 0.68141201 0.70485712 0.70308768 0.6925595  0.6915863\n",
            " 0.6713262  0.64416527 0.6446961  0.63779528 0.63832611 0.64646554\n",
            " 0.62151641 0.62894807 0.60957268 0.59585951 0.60913032 0.60966115\n",
            " 0.60780324 0.62363974 0.63983013 0.63195612 0.63434486 0.63806069\n",
            " 0.64230735 0.64301513 0.6577015  0.66415996 0.67442272 0.65947094\n",
            " 0.67097231 0.66893745 0.66486773 0.65663983 0.67079536 0.66858356\n",
            " 0.67070689 0.66115191 0.65796691 0.69733699 0.69813324 0.67990799\n",
            " 0.68866673 0.69079006 0.71096169 0.70671503 0.71963196 0.74121915\n",
            " 0.78023534 0.77475007 0.78704769 0.78501283 0.7502433  0.74316553\n",
            " 0.75342829 0.75263204 0.74776608 0.73706096 0.71830487 0.70910378\n",
            " 0.71520835 0.71989737 0.74024595 0.75617093 0.7644873  0.76156773\n",
            " 0.75457843 0.81562417 0.86003716 0.88870211 0.9102893  0.94505883\n",
            " 1.         0.94320092 0.92338317 0.94364065]\n",
            "1 day output [[0.95981944]]\n",
            "2 day input [0.64867734 0.65964788 0.64266124 0.62585154 0.62355127 0.63407945\n",
            " 0.6316907  0.62160488 0.64372291 0.66663718 0.66964523 0.6697337\n",
            " 0.67645758 0.68663187 0.68141201 0.64443068 0.65867469 0.64416527\n",
            " 0.68362382 0.67601522 0.66681412 0.65053526 0.67123772 0.64867734\n",
            " 0.68141201 0.70485712 0.70308768 0.6925595  0.6915863  0.6713262\n",
            " 0.64416527 0.6446961  0.63779528 0.63832611 0.64646554 0.62151641\n",
            " 0.62894807 0.60957268 0.59585951 0.60913032 0.60966115 0.60780324\n",
            " 0.62363974 0.63983013 0.63195612 0.63434486 0.63806069 0.64230735\n",
            " 0.64301513 0.6577015  0.66415996 0.67442272 0.65947094 0.67097231\n",
            " 0.66893745 0.66486773 0.65663983 0.67079536 0.66858356 0.67070689\n",
            " 0.66115191 0.65796691 0.69733699 0.69813324 0.67990799 0.68866673\n",
            " 0.69079006 0.71096169 0.70671503 0.71963196 0.74121915 0.78023534\n",
            " 0.77475007 0.78704769 0.78501283 0.7502433  0.74316553 0.75342829\n",
            " 0.75263204 0.74776608 0.73706096 0.71830487 0.70910378 0.71520835\n",
            " 0.71989737 0.74024595 0.75617093 0.7644873  0.76156773 0.75457843\n",
            " 0.81562417 0.86003716 0.88870211 0.9102893  0.94505883 1.\n",
            " 0.94320092 0.92338317 0.94364065 0.95981944]\n",
            "2 day output [[0.9762511]]\n",
            "3 day input [0.65964788 0.64266124 0.62585154 0.62355127 0.63407945 0.6316907\n",
            " 0.62160488 0.64372291 0.66663718 0.66964523 0.6697337  0.67645758\n",
            " 0.68663187 0.68141201 0.64443068 0.65867469 0.64416527 0.68362382\n",
            " 0.67601522 0.66681412 0.65053526 0.67123772 0.64867734 0.68141201\n",
            " 0.70485712 0.70308768 0.6925595  0.6915863  0.6713262  0.64416527\n",
            " 0.6446961  0.63779528 0.63832611 0.64646554 0.62151641 0.62894807\n",
            " 0.60957268 0.59585951 0.60913032 0.60966115 0.60780324 0.62363974\n",
            " 0.63983013 0.63195612 0.63434486 0.63806069 0.64230735 0.64301513\n",
            " 0.6577015  0.66415996 0.67442272 0.65947094 0.67097231 0.66893745\n",
            " 0.66486773 0.65663983 0.67079536 0.66858356 0.67070689 0.66115191\n",
            " 0.65796691 0.69733699 0.69813324 0.67990799 0.68866673 0.69079006\n",
            " 0.71096169 0.70671503 0.71963196 0.74121915 0.78023534 0.77475007\n",
            " 0.78704769 0.78501283 0.7502433  0.74316553 0.75342829 0.75263204\n",
            " 0.74776608 0.73706096 0.71830487 0.70910378 0.71520835 0.71989737\n",
            " 0.74024595 0.75617093 0.7644873  0.76156773 0.75457843 0.81562417\n",
            " 0.86003716 0.88870211 0.9102893  0.94505883 1.         0.94320092\n",
            " 0.92338317 0.94364065 0.95981944 0.97625113]\n",
            "3 day output [[0.9907349]]\n",
            "4 day input [0.64266124 0.62585154 0.62355127 0.63407945 0.6316907  0.62160488\n",
            " 0.64372291 0.66663718 0.66964523 0.6697337  0.67645758 0.68663187\n",
            " 0.68141201 0.64443068 0.65867469 0.64416527 0.68362382 0.67601522\n",
            " 0.66681412 0.65053526 0.67123772 0.64867734 0.68141201 0.70485712\n",
            " 0.70308768 0.6925595  0.6915863  0.6713262  0.64416527 0.6446961\n",
            " 0.63779528 0.63832611 0.64646554 0.62151641 0.62894807 0.60957268\n",
            " 0.59585951 0.60913032 0.60966115 0.60780324 0.62363974 0.63983013\n",
            " 0.63195612 0.63434486 0.63806069 0.64230735 0.64301513 0.6577015\n",
            " 0.66415996 0.67442272 0.65947094 0.67097231 0.66893745 0.66486773\n",
            " 0.65663983 0.67079536 0.66858356 0.67070689 0.66115191 0.65796691\n",
            " 0.69733699 0.69813324 0.67990799 0.68866673 0.69079006 0.71096169\n",
            " 0.70671503 0.71963196 0.74121915 0.78023534 0.77475007 0.78704769\n",
            " 0.78501283 0.7502433  0.74316553 0.75342829 0.75263204 0.74776608\n",
            " 0.73706096 0.71830487 0.70910378 0.71520835 0.71989737 0.74024595\n",
            " 0.75617093 0.7644873  0.76156773 0.75457843 0.81562417 0.86003716\n",
            " 0.88870211 0.9102893  0.94505883 1.         0.94320092 0.92338317\n",
            " 0.94364065 0.95981944 0.97625113 0.99073488]\n",
            "4 day output [[0.99978256]]\n",
            "5 day input [0.62585154 0.62355127 0.63407945 0.6316907  0.62160488 0.64372291\n",
            " 0.66663718 0.66964523 0.6697337  0.67645758 0.68663187 0.68141201\n",
            " 0.64443068 0.65867469 0.64416527 0.68362382 0.67601522 0.66681412\n",
            " 0.65053526 0.67123772 0.64867734 0.68141201 0.70485712 0.70308768\n",
            " 0.6925595  0.6915863  0.6713262  0.64416527 0.6446961  0.63779528\n",
            " 0.63832611 0.64646554 0.62151641 0.62894807 0.60957268 0.59585951\n",
            " 0.60913032 0.60966115 0.60780324 0.62363974 0.63983013 0.63195612\n",
            " 0.63434486 0.63806069 0.64230735 0.64301513 0.6577015  0.66415996\n",
            " 0.67442272 0.65947094 0.67097231 0.66893745 0.66486773 0.65663983\n",
            " 0.67079536 0.66858356 0.67070689 0.66115191 0.65796691 0.69733699\n",
            " 0.69813324 0.67990799 0.68866673 0.69079006 0.71096169 0.70671503\n",
            " 0.71963196 0.74121915 0.78023534 0.77475007 0.78704769 0.78501283\n",
            " 0.7502433  0.74316553 0.75342829 0.75263204 0.74776608 0.73706096\n",
            " 0.71830487 0.70910378 0.71520835 0.71989737 0.74024595 0.75617093\n",
            " 0.7644873  0.76156773 0.75457843 0.81562417 0.86003716 0.88870211\n",
            " 0.9102893  0.94505883 1.         0.94320092 0.92338317 0.94364065\n",
            " 0.95981944 0.97625113 0.99073488 0.99978256]\n",
            "5 day output [[1.0035297]]\n",
            "6 day input [0.62355127 0.63407945 0.6316907  0.62160488 0.64372291 0.66663718\n",
            " 0.66964523 0.6697337  0.67645758 0.68663187 0.68141201 0.64443068\n",
            " 0.65867469 0.64416527 0.68362382 0.67601522 0.66681412 0.65053526\n",
            " 0.67123772 0.64867734 0.68141201 0.70485712 0.70308768 0.6925595\n",
            " 0.6915863  0.6713262  0.64416527 0.6446961  0.63779528 0.63832611\n",
            " 0.64646554 0.62151641 0.62894807 0.60957268 0.59585951 0.60913032\n",
            " 0.60966115 0.60780324 0.62363974 0.63983013 0.63195612 0.63434486\n",
            " 0.63806069 0.64230735 0.64301513 0.6577015  0.66415996 0.67442272\n",
            " 0.65947094 0.67097231 0.66893745 0.66486773 0.65663983 0.67079536\n",
            " 0.66858356 0.67070689 0.66115191 0.65796691 0.69733699 0.69813324\n",
            " 0.67990799 0.68866673 0.69079006 0.71096169 0.70671503 0.71963196\n",
            " 0.74121915 0.78023534 0.77475007 0.78704769 0.78501283 0.7502433\n",
            " 0.74316553 0.75342829 0.75263204 0.74776608 0.73706096 0.71830487\n",
            " 0.70910378 0.71520835 0.71989737 0.74024595 0.75617093 0.7644873\n",
            " 0.76156773 0.75457843 0.81562417 0.86003716 0.88870211 0.9102893\n",
            " 0.94505883 1.         0.94320092 0.92338317 0.94364065 0.95981944\n",
            " 0.97625113 0.99073488 0.99978256 1.00352967]\n",
            "6 day output [[1.0042133]]\n",
            "7 day input [0.63407945 0.6316907  0.62160488 0.64372291 0.66663718 0.66964523\n",
            " 0.6697337  0.67645758 0.68663187 0.68141201 0.64443068 0.65867469\n",
            " 0.64416527 0.68362382 0.67601522 0.66681412 0.65053526 0.67123772\n",
            " 0.64867734 0.68141201 0.70485712 0.70308768 0.6925595  0.6915863\n",
            " 0.6713262  0.64416527 0.6446961  0.63779528 0.63832611 0.64646554\n",
            " 0.62151641 0.62894807 0.60957268 0.59585951 0.60913032 0.60966115\n",
            " 0.60780324 0.62363974 0.63983013 0.63195612 0.63434486 0.63806069\n",
            " 0.64230735 0.64301513 0.6577015  0.66415996 0.67442272 0.65947094\n",
            " 0.67097231 0.66893745 0.66486773 0.65663983 0.67079536 0.66858356\n",
            " 0.67070689 0.66115191 0.65796691 0.69733699 0.69813324 0.67990799\n",
            " 0.68866673 0.69079006 0.71096169 0.70671503 0.71963196 0.74121915\n",
            " 0.78023534 0.77475007 0.78704769 0.78501283 0.7502433  0.74316553\n",
            " 0.75342829 0.75263204 0.74776608 0.73706096 0.71830487 0.70910378\n",
            " 0.71520835 0.71989737 0.74024595 0.75617093 0.7644873  0.76156773\n",
            " 0.75457843 0.81562417 0.86003716 0.88870211 0.9102893  0.94505883\n",
            " 1.         0.94320092 0.92338317 0.94364065 0.95981944 0.97625113\n",
            " 0.99073488 0.99978256 1.00352967 1.00421333]\n",
            "7 day output [[1.0044922]]\n",
            "8 day input [0.6316907  0.62160488 0.64372291 0.66663718 0.66964523 0.6697337\n",
            " 0.67645758 0.68663187 0.68141201 0.64443068 0.65867469 0.64416527\n",
            " 0.68362382 0.67601522 0.66681412 0.65053526 0.67123772 0.64867734\n",
            " 0.68141201 0.70485712 0.70308768 0.6925595  0.6915863  0.6713262\n",
            " 0.64416527 0.6446961  0.63779528 0.63832611 0.64646554 0.62151641\n",
            " 0.62894807 0.60957268 0.59585951 0.60913032 0.60966115 0.60780324\n",
            " 0.62363974 0.63983013 0.63195612 0.63434486 0.63806069 0.64230735\n",
            " 0.64301513 0.6577015  0.66415996 0.67442272 0.65947094 0.67097231\n",
            " 0.66893745 0.66486773 0.65663983 0.67079536 0.66858356 0.67070689\n",
            " 0.66115191 0.65796691 0.69733699 0.69813324 0.67990799 0.68866673\n",
            " 0.69079006 0.71096169 0.70671503 0.71963196 0.74121915 0.78023534\n",
            " 0.77475007 0.78704769 0.78501283 0.7502433  0.74316553 0.75342829\n",
            " 0.75263204 0.74776608 0.73706096 0.71830487 0.70910378 0.71520835\n",
            " 0.71989737 0.74024595 0.75617093 0.7644873  0.76156773 0.75457843\n",
            " 0.81562417 0.86003716 0.88870211 0.9102893  0.94505883 1.\n",
            " 0.94320092 0.92338317 0.94364065 0.95981944 0.97625113 0.99073488\n",
            " 0.99978256 1.00352967 1.00421333 1.00449216]\n",
            "8 day output [[1.0061448]]\n",
            "9 day input [0.62160488 0.64372291 0.66663718 0.66964523 0.6697337  0.67645758\n",
            " 0.68663187 0.68141201 0.64443068 0.65867469 0.64416527 0.68362382\n",
            " 0.67601522 0.66681412 0.65053526 0.67123772 0.64867734 0.68141201\n",
            " 0.70485712 0.70308768 0.6925595  0.6915863  0.6713262  0.64416527\n",
            " 0.6446961  0.63779528 0.63832611 0.64646554 0.62151641 0.62894807\n",
            " 0.60957268 0.59585951 0.60913032 0.60966115 0.60780324 0.62363974\n",
            " 0.63983013 0.63195612 0.63434486 0.63806069 0.64230735 0.64301513\n",
            " 0.6577015  0.66415996 0.67442272 0.65947094 0.67097231 0.66893745\n",
            " 0.66486773 0.65663983 0.67079536 0.66858356 0.67070689 0.66115191\n",
            " 0.65796691 0.69733699 0.69813324 0.67990799 0.68866673 0.69079006\n",
            " 0.71096169 0.70671503 0.71963196 0.74121915 0.78023534 0.77475007\n",
            " 0.78704769 0.78501283 0.7502433  0.74316553 0.75342829 0.75263204\n",
            " 0.74776608 0.73706096 0.71830487 0.70910378 0.71520835 0.71989737\n",
            " 0.74024595 0.75617093 0.7644873  0.76156773 0.75457843 0.81562417\n",
            " 0.86003716 0.88870211 0.9102893  0.94505883 1.         0.94320092\n",
            " 0.92338317 0.94364065 0.95981944 0.97625113 0.99073488 0.99978256\n",
            " 1.00352967 1.00421333 1.00449216 1.00614476]\n",
            "9 day output [[1.0095723]]\n",
            "10 day input [0.64372291 0.66663718 0.66964523 0.6697337  0.67645758 0.68663187\n",
            " 0.68141201 0.64443068 0.65867469 0.64416527 0.68362382 0.67601522\n",
            " 0.66681412 0.65053526 0.67123772 0.64867734 0.68141201 0.70485712\n",
            " 0.70308768 0.6925595  0.6915863  0.6713262  0.64416527 0.6446961\n",
            " 0.63779528 0.63832611 0.64646554 0.62151641 0.62894807 0.60957268\n",
            " 0.59585951 0.60913032 0.60966115 0.60780324 0.62363974 0.63983013\n",
            " 0.63195612 0.63434486 0.63806069 0.64230735 0.64301513 0.6577015\n",
            " 0.66415996 0.67442272 0.65947094 0.67097231 0.66893745 0.66486773\n",
            " 0.65663983 0.67079536 0.66858356 0.67070689 0.66115191 0.65796691\n",
            " 0.69733699 0.69813324 0.67990799 0.68866673 0.69079006 0.71096169\n",
            " 0.70671503 0.71963196 0.74121915 0.78023534 0.77475007 0.78704769\n",
            " 0.78501283 0.7502433  0.74316553 0.75342829 0.75263204 0.74776608\n",
            " 0.73706096 0.71830487 0.70910378 0.71520835 0.71989737 0.74024595\n",
            " 0.75617093 0.7644873  0.76156773 0.75457843 0.81562417 0.86003716\n",
            " 0.88870211 0.9102893  0.94505883 1.         0.94320092 0.92338317\n",
            " 0.94364065 0.95981944 0.97625113 0.99073488 0.99978256 1.00352967\n",
            " 1.00421333 1.00449216 1.00614476 1.00957227]\n",
            "10 day output [[1.0140918]]\n",
            "11 day input [0.66663718 0.66964523 0.6697337  0.67645758 0.68663187 0.68141201\n",
            " 0.64443068 0.65867469 0.64416527 0.68362382 0.67601522 0.66681412\n",
            " 0.65053526 0.67123772 0.64867734 0.68141201 0.70485712 0.70308768\n",
            " 0.6925595  0.6915863  0.6713262  0.64416527 0.6446961  0.63779528\n",
            " 0.63832611 0.64646554 0.62151641 0.62894807 0.60957268 0.59585951\n",
            " 0.60913032 0.60966115 0.60780324 0.62363974 0.63983013 0.63195612\n",
            " 0.63434486 0.63806069 0.64230735 0.64301513 0.6577015  0.66415996\n",
            " 0.67442272 0.65947094 0.67097231 0.66893745 0.66486773 0.65663983\n",
            " 0.67079536 0.66858356 0.67070689 0.66115191 0.65796691 0.69733699\n",
            " 0.69813324 0.67990799 0.68866673 0.69079006 0.71096169 0.70671503\n",
            " 0.71963196 0.74121915 0.78023534 0.77475007 0.78704769 0.78501283\n",
            " 0.7502433  0.74316553 0.75342829 0.75263204 0.74776608 0.73706096\n",
            " 0.71830487 0.70910378 0.71520835 0.71989737 0.74024595 0.75617093\n",
            " 0.7644873  0.76156773 0.75457843 0.81562417 0.86003716 0.88870211\n",
            " 0.9102893  0.94505883 1.         0.94320092 0.92338317 0.94364065\n",
            " 0.95981944 0.97625113 0.99073488 0.99978256 1.00352967 1.00421333\n",
            " 1.00449216 1.00614476 1.00957227 1.01409185]\n",
            "11 day output [[1.0186372]]\n",
            "12 day input [0.66964523 0.6697337  0.67645758 0.68663187 0.68141201 0.64443068\n",
            " 0.65867469 0.64416527 0.68362382 0.67601522 0.66681412 0.65053526\n",
            " 0.67123772 0.64867734 0.68141201 0.70485712 0.70308768 0.6925595\n",
            " 0.6915863  0.6713262  0.64416527 0.6446961  0.63779528 0.63832611\n",
            " 0.64646554 0.62151641 0.62894807 0.60957268 0.59585951 0.60913032\n",
            " 0.60966115 0.60780324 0.62363974 0.63983013 0.63195612 0.63434486\n",
            " 0.63806069 0.64230735 0.64301513 0.6577015  0.66415996 0.67442272\n",
            " 0.65947094 0.67097231 0.66893745 0.66486773 0.65663983 0.67079536\n",
            " 0.66858356 0.67070689 0.66115191 0.65796691 0.69733699 0.69813324\n",
            " 0.67990799 0.68866673 0.69079006 0.71096169 0.70671503 0.71963196\n",
            " 0.74121915 0.78023534 0.77475007 0.78704769 0.78501283 0.7502433\n",
            " 0.74316553 0.75342829 0.75263204 0.74776608 0.73706096 0.71830487\n",
            " 0.70910378 0.71520835 0.71989737 0.74024595 0.75617093 0.7644873\n",
            " 0.76156773 0.75457843 0.81562417 0.86003716 0.88870211 0.9102893\n",
            " 0.94505883 1.         0.94320092 0.92338317 0.94364065 0.95981944\n",
            " 0.97625113 0.99073488 0.99978256 1.00352967 1.00421333 1.00449216\n",
            " 1.00614476 1.00957227 1.01409185 1.01863718]\n",
            "12 day output [[1.0224147]]\n",
            "13 day input [0.6697337  0.67645758 0.68663187 0.68141201 0.64443068 0.65867469\n",
            " 0.64416527 0.68362382 0.67601522 0.66681412 0.65053526 0.67123772\n",
            " 0.64867734 0.68141201 0.70485712 0.70308768 0.6925595  0.6915863\n",
            " 0.6713262  0.64416527 0.6446961  0.63779528 0.63832611 0.64646554\n",
            " 0.62151641 0.62894807 0.60957268 0.59585951 0.60913032 0.60966115\n",
            " 0.60780324 0.62363974 0.63983013 0.63195612 0.63434486 0.63806069\n",
            " 0.64230735 0.64301513 0.6577015  0.66415996 0.67442272 0.65947094\n",
            " 0.67097231 0.66893745 0.66486773 0.65663983 0.67079536 0.66858356\n",
            " 0.67070689 0.66115191 0.65796691 0.69733699 0.69813324 0.67990799\n",
            " 0.68866673 0.69079006 0.71096169 0.70671503 0.71963196 0.74121915\n",
            " 0.78023534 0.77475007 0.78704769 0.78501283 0.7502433  0.74316553\n",
            " 0.75342829 0.75263204 0.74776608 0.73706096 0.71830487 0.70910378\n",
            " 0.71520835 0.71989737 0.74024595 0.75617093 0.7644873  0.76156773\n",
            " 0.75457843 0.81562417 0.86003716 0.88870211 0.9102893  0.94505883\n",
            " 1.         0.94320092 0.92338317 0.94364065 0.95981944 0.97625113\n",
            " 0.99073488 0.99978256 1.00352967 1.00421333 1.00449216 1.00614476\n",
            " 1.00957227 1.01409185 1.01863718 1.02241468]\n",
            "13 day output [[1.025223]]\n",
            "14 day input [0.67645758 0.68663187 0.68141201 0.64443068 0.65867469 0.64416527\n",
            " 0.68362382 0.67601522 0.66681412 0.65053526 0.67123772 0.64867734\n",
            " 0.68141201 0.70485712 0.70308768 0.6925595  0.6915863  0.6713262\n",
            " 0.64416527 0.6446961  0.63779528 0.63832611 0.64646554 0.62151641\n",
            " 0.62894807 0.60957268 0.59585951 0.60913032 0.60966115 0.60780324\n",
            " 0.62363974 0.63983013 0.63195612 0.63434486 0.63806069 0.64230735\n",
            " 0.64301513 0.6577015  0.66415996 0.67442272 0.65947094 0.67097231\n",
            " 0.66893745 0.66486773 0.65663983 0.67079536 0.66858356 0.67070689\n",
            " 0.66115191 0.65796691 0.69733699 0.69813324 0.67990799 0.68866673\n",
            " 0.69079006 0.71096169 0.70671503 0.71963196 0.74121915 0.78023534\n",
            " 0.77475007 0.78704769 0.78501283 0.7502433  0.74316553 0.75342829\n",
            " 0.75263204 0.74776608 0.73706096 0.71830487 0.70910378 0.71520835\n",
            " 0.71989737 0.74024595 0.75617093 0.7644873  0.76156773 0.75457843\n",
            " 0.81562417 0.86003716 0.88870211 0.9102893  0.94505883 1.\n",
            " 0.94320092 0.92338317 0.94364065 0.95981944 0.97625113 0.99073488\n",
            " 0.99978256 1.00352967 1.00421333 1.00449216 1.00614476 1.00957227\n",
            " 1.01409185 1.01863718 1.02241468 1.02522302]\n",
            "14 day output [[1.0273929]]\n",
            "15 day input [0.68663187 0.68141201 0.64443068 0.65867469 0.64416527 0.68362382\n",
            " 0.67601522 0.66681412 0.65053526 0.67123772 0.64867734 0.68141201\n",
            " 0.70485712 0.70308768 0.6925595  0.6915863  0.6713262  0.64416527\n",
            " 0.6446961  0.63779528 0.63832611 0.64646554 0.62151641 0.62894807\n",
            " 0.60957268 0.59585951 0.60913032 0.60966115 0.60780324 0.62363974\n",
            " 0.63983013 0.63195612 0.63434486 0.63806069 0.64230735 0.64301513\n",
            " 0.6577015  0.66415996 0.67442272 0.65947094 0.67097231 0.66893745\n",
            " 0.66486773 0.65663983 0.67079536 0.66858356 0.67070689 0.66115191\n",
            " 0.65796691 0.69733699 0.69813324 0.67990799 0.68866673 0.69079006\n",
            " 0.71096169 0.70671503 0.71963196 0.74121915 0.78023534 0.77475007\n",
            " 0.78704769 0.78501283 0.7502433  0.74316553 0.75342829 0.75263204\n",
            " 0.74776608 0.73706096 0.71830487 0.70910378 0.71520835 0.71989737\n",
            " 0.74024595 0.75617093 0.7644873  0.76156773 0.75457843 0.81562417\n",
            " 0.86003716 0.88870211 0.9102893  0.94505883 1.         0.94320092\n",
            " 0.92338317 0.94364065 0.95981944 0.97625113 0.99073488 0.99978256\n",
            " 1.00352967 1.00421333 1.00449216 1.00614476 1.00957227 1.01409185\n",
            " 1.01863718 1.02241468 1.02522302 1.02739286]\n",
            "15 day output [[1.0294952]]\n",
            "16 day input [0.68141201 0.64443068 0.65867469 0.64416527 0.68362382 0.67601522\n",
            " 0.66681412 0.65053526 0.67123772 0.64867734 0.68141201 0.70485712\n",
            " 0.70308768 0.6925595  0.6915863  0.6713262  0.64416527 0.6446961\n",
            " 0.63779528 0.63832611 0.64646554 0.62151641 0.62894807 0.60957268\n",
            " 0.59585951 0.60913032 0.60966115 0.60780324 0.62363974 0.63983013\n",
            " 0.63195612 0.63434486 0.63806069 0.64230735 0.64301513 0.6577015\n",
            " 0.66415996 0.67442272 0.65947094 0.67097231 0.66893745 0.66486773\n",
            " 0.65663983 0.67079536 0.66858356 0.67070689 0.66115191 0.65796691\n",
            " 0.69733699 0.69813324 0.67990799 0.68866673 0.69079006 0.71096169\n",
            " 0.70671503 0.71963196 0.74121915 0.78023534 0.77475007 0.78704769\n",
            " 0.78501283 0.7502433  0.74316553 0.75342829 0.75263204 0.74776608\n",
            " 0.73706096 0.71830487 0.70910378 0.71520835 0.71989737 0.74024595\n",
            " 0.75617093 0.7644873  0.76156773 0.75457843 0.81562417 0.86003716\n",
            " 0.88870211 0.9102893  0.94505883 1.         0.94320092 0.92338317\n",
            " 0.94364065 0.95981944 0.97625113 0.99073488 0.99978256 1.00352967\n",
            " 1.00421333 1.00449216 1.00614476 1.00957227 1.01409185 1.01863718\n",
            " 1.02241468 1.02522302 1.02739286 1.02949524]\n",
            "16 day output [[1.0320235]]\n",
            "17 day input [0.64443068 0.65867469 0.64416527 0.68362382 0.67601522 0.66681412\n",
            " 0.65053526 0.67123772 0.64867734 0.68141201 0.70485712 0.70308768\n",
            " 0.6925595  0.6915863  0.6713262  0.64416527 0.6446961  0.63779528\n",
            " 0.63832611 0.64646554 0.62151641 0.62894807 0.60957268 0.59585951\n",
            " 0.60913032 0.60966115 0.60780324 0.62363974 0.63983013 0.63195612\n",
            " 0.63434486 0.63806069 0.64230735 0.64301513 0.6577015  0.66415996\n",
            " 0.67442272 0.65947094 0.67097231 0.66893745 0.66486773 0.65663983\n",
            " 0.67079536 0.66858356 0.67070689 0.66115191 0.65796691 0.69733699\n",
            " 0.69813324 0.67990799 0.68866673 0.69079006 0.71096169 0.70671503\n",
            " 0.71963196 0.74121915 0.78023534 0.77475007 0.78704769 0.78501283\n",
            " 0.7502433  0.74316553 0.75342829 0.75263204 0.74776608 0.73706096\n",
            " 0.71830487 0.70910378 0.71520835 0.71989737 0.74024595 0.75617093\n",
            " 0.7644873  0.76156773 0.75457843 0.81562417 0.86003716 0.88870211\n",
            " 0.9102893  0.94505883 1.         0.94320092 0.92338317 0.94364065\n",
            " 0.95981944 0.97625113 0.99073488 0.99978256 1.00352967 1.00421333\n",
            " 1.00449216 1.00614476 1.00957227 1.01409185 1.01863718 1.02241468\n",
            " 1.02522302 1.02739286 1.02949524 1.03202355]\n",
            "17 day output [[1.0352092]]\n",
            "18 day input [0.65867469 0.64416527 0.68362382 0.67601522 0.66681412 0.65053526\n",
            " 0.67123772 0.64867734 0.68141201 0.70485712 0.70308768 0.6925595\n",
            " 0.6915863  0.6713262  0.64416527 0.6446961  0.63779528 0.63832611\n",
            " 0.64646554 0.62151641 0.62894807 0.60957268 0.59585951 0.60913032\n",
            " 0.60966115 0.60780324 0.62363974 0.63983013 0.63195612 0.63434486\n",
            " 0.63806069 0.64230735 0.64301513 0.6577015  0.66415996 0.67442272\n",
            " 0.65947094 0.67097231 0.66893745 0.66486773 0.65663983 0.67079536\n",
            " 0.66858356 0.67070689 0.66115191 0.65796691 0.69733699 0.69813324\n",
            " 0.67990799 0.68866673 0.69079006 0.71096169 0.70671503 0.71963196\n",
            " 0.74121915 0.78023534 0.77475007 0.78704769 0.78501283 0.7502433\n",
            " 0.74316553 0.75342829 0.75263204 0.74776608 0.73706096 0.71830487\n",
            " 0.70910378 0.71520835 0.71989737 0.74024595 0.75617093 0.7644873\n",
            " 0.76156773 0.75457843 0.81562417 0.86003716 0.88870211 0.9102893\n",
            " 0.94505883 1.         0.94320092 0.92338317 0.94364065 0.95981944\n",
            " 0.97625113 0.99073488 0.99978256 1.00352967 1.00421333 1.00449216\n",
            " 1.00614476 1.00957227 1.01409185 1.01863718 1.02241468 1.02522302\n",
            " 1.02739286 1.02949524 1.03202355 1.03520918]\n",
            "18 day output [[1.0390121]]\n",
            "19 day input [0.64416527 0.68362382 0.67601522 0.66681412 0.65053526 0.67123772\n",
            " 0.64867734 0.68141201 0.70485712 0.70308768 0.6925595  0.6915863\n",
            " 0.6713262  0.64416527 0.6446961  0.63779528 0.63832611 0.64646554\n",
            " 0.62151641 0.62894807 0.60957268 0.59585951 0.60913032 0.60966115\n",
            " 0.60780324 0.62363974 0.63983013 0.63195612 0.63434486 0.63806069\n",
            " 0.64230735 0.64301513 0.6577015  0.66415996 0.67442272 0.65947094\n",
            " 0.67097231 0.66893745 0.66486773 0.65663983 0.67079536 0.66858356\n",
            " 0.67070689 0.66115191 0.65796691 0.69733699 0.69813324 0.67990799\n",
            " 0.68866673 0.69079006 0.71096169 0.70671503 0.71963196 0.74121915\n",
            " 0.78023534 0.77475007 0.78704769 0.78501283 0.7502433  0.74316553\n",
            " 0.75342829 0.75263204 0.74776608 0.73706096 0.71830487 0.70910378\n",
            " 0.71520835 0.71989737 0.74024595 0.75617093 0.7644873  0.76156773\n",
            " 0.75457843 0.81562417 0.86003716 0.88870211 0.9102893  0.94505883\n",
            " 1.         0.94320092 0.92338317 0.94364065 0.95981944 0.97625113\n",
            " 0.99073488 0.99978256 1.00352967 1.00421333 1.00449216 1.00614476\n",
            " 1.00957227 1.01409185 1.01863718 1.02241468 1.02522302 1.02739286\n",
            " 1.02949524 1.03202355 1.03520918 1.03901207]\n",
            "19 day output [[1.0432389]]\n",
            "20 day input [0.68362382 0.67601522 0.66681412 0.65053526 0.67123772 0.64867734\n",
            " 0.68141201 0.70485712 0.70308768 0.6925595  0.6915863  0.6713262\n",
            " 0.64416527 0.6446961  0.63779528 0.63832611 0.64646554 0.62151641\n",
            " 0.62894807 0.60957268 0.59585951 0.60913032 0.60966115 0.60780324\n",
            " 0.62363974 0.63983013 0.63195612 0.63434486 0.63806069 0.64230735\n",
            " 0.64301513 0.6577015  0.66415996 0.67442272 0.65947094 0.67097231\n",
            " 0.66893745 0.66486773 0.65663983 0.67079536 0.66858356 0.67070689\n",
            " 0.66115191 0.65796691 0.69733699 0.69813324 0.67990799 0.68866673\n",
            " 0.69079006 0.71096169 0.70671503 0.71963196 0.74121915 0.78023534\n",
            " 0.77475007 0.78704769 0.78501283 0.7502433  0.74316553 0.75342829\n",
            " 0.75263204 0.74776608 0.73706096 0.71830487 0.70910378 0.71520835\n",
            " 0.71989737 0.74024595 0.75617093 0.7644873  0.76156773 0.75457843\n",
            " 0.81562417 0.86003716 0.88870211 0.9102893  0.94505883 1.\n",
            " 0.94320092 0.92338317 0.94364065 0.95981944 0.97625113 0.99073488\n",
            " 0.99978256 1.00352967 1.00421333 1.00449216 1.00614476 1.00957227\n",
            " 1.01409185 1.01863718 1.02241468 1.02522302 1.02739286 1.02949524\n",
            " 1.03202355 1.03520918 1.03901207 1.04323888]\n",
            "20 day output [[1.0476907]]\n",
            "21 day input [0.67601522 0.66681412 0.65053526 0.67123772 0.64867734 0.68141201\n",
            " 0.70485712 0.70308768 0.6925595  0.6915863  0.6713262  0.64416527\n",
            " 0.6446961  0.63779528 0.63832611 0.64646554 0.62151641 0.62894807\n",
            " 0.60957268 0.59585951 0.60913032 0.60966115 0.60780324 0.62363974\n",
            " 0.63983013 0.63195612 0.63434486 0.63806069 0.64230735 0.64301513\n",
            " 0.6577015  0.66415996 0.67442272 0.65947094 0.67097231 0.66893745\n",
            " 0.66486773 0.65663983 0.67079536 0.66858356 0.67070689 0.66115191\n",
            " 0.65796691 0.69733699 0.69813324 0.67990799 0.68866673 0.69079006\n",
            " 0.71096169 0.70671503 0.71963196 0.74121915 0.78023534 0.77475007\n",
            " 0.78704769 0.78501283 0.7502433  0.74316553 0.75342829 0.75263204\n",
            " 0.74776608 0.73706096 0.71830487 0.70910378 0.71520835 0.71989737\n",
            " 0.74024595 0.75617093 0.7644873  0.76156773 0.75457843 0.81562417\n",
            " 0.86003716 0.88870211 0.9102893  0.94505883 1.         0.94320092\n",
            " 0.92338317 0.94364065 0.95981944 0.97625113 0.99073488 0.99978256\n",
            " 1.00352967 1.00421333 1.00449216 1.00614476 1.00957227 1.01409185\n",
            " 1.01863718 1.02241468 1.02522302 1.02739286 1.02949524 1.03202355\n",
            " 1.03520918 1.03901207 1.04323888 1.04769075]\n",
            "21 day output [[1.0522637]]\n",
            "22 day input [0.66681412 0.65053526 0.67123772 0.64867734 0.68141201 0.70485712\n",
            " 0.70308768 0.6925595  0.6915863  0.6713262  0.64416527 0.6446961\n",
            " 0.63779528 0.63832611 0.64646554 0.62151641 0.62894807 0.60957268\n",
            " 0.59585951 0.60913032 0.60966115 0.60780324 0.62363974 0.63983013\n",
            " 0.63195612 0.63434486 0.63806069 0.64230735 0.64301513 0.6577015\n",
            " 0.66415996 0.67442272 0.65947094 0.67097231 0.66893745 0.66486773\n",
            " 0.65663983 0.67079536 0.66858356 0.67070689 0.66115191 0.65796691\n",
            " 0.69733699 0.69813324 0.67990799 0.68866673 0.69079006 0.71096169\n",
            " 0.70671503 0.71963196 0.74121915 0.78023534 0.77475007 0.78704769\n",
            " 0.78501283 0.7502433  0.74316553 0.75342829 0.75263204 0.74776608\n",
            " 0.73706096 0.71830487 0.70910378 0.71520835 0.71989737 0.74024595\n",
            " 0.75617093 0.7644873  0.76156773 0.75457843 0.81562417 0.86003716\n",
            " 0.88870211 0.9102893  0.94505883 1.         0.94320092 0.92338317\n",
            " 0.94364065 0.95981944 0.97625113 0.99073488 0.99978256 1.00352967\n",
            " 1.00421333 1.00449216 1.00614476 1.00957227 1.01409185 1.01863718\n",
            " 1.02241468 1.02522302 1.02739286 1.02949524 1.03202355 1.03520918\n",
            " 1.03901207 1.04323888 1.04769075 1.05226374]\n",
            "22 day output [[1.0569702]]\n",
            "23 day input [0.65053526 0.67123772 0.64867734 0.68141201 0.70485712 0.70308768\n",
            " 0.6925595  0.6915863  0.6713262  0.64416527 0.6446961  0.63779528\n",
            " 0.63832611 0.64646554 0.62151641 0.62894807 0.60957268 0.59585951\n",
            " 0.60913032 0.60966115 0.60780324 0.62363974 0.63983013 0.63195612\n",
            " 0.63434486 0.63806069 0.64230735 0.64301513 0.6577015  0.66415996\n",
            " 0.67442272 0.65947094 0.67097231 0.66893745 0.66486773 0.65663983\n",
            " 0.67079536 0.66858356 0.67070689 0.66115191 0.65796691 0.69733699\n",
            " 0.69813324 0.67990799 0.68866673 0.69079006 0.71096169 0.70671503\n",
            " 0.71963196 0.74121915 0.78023534 0.77475007 0.78704769 0.78501283\n",
            " 0.7502433  0.74316553 0.75342829 0.75263204 0.74776608 0.73706096\n",
            " 0.71830487 0.70910378 0.71520835 0.71989737 0.74024595 0.75617093\n",
            " 0.7644873  0.76156773 0.75457843 0.81562417 0.86003716 0.88870211\n",
            " 0.9102893  0.94505883 1.         0.94320092 0.92338317 0.94364065\n",
            " 0.95981944 0.97625113 0.99073488 0.99978256 1.00352967 1.00421333\n",
            " 1.00449216 1.00614476 1.00957227 1.01409185 1.01863718 1.02241468\n",
            " 1.02522302 1.02739286 1.02949524 1.03202355 1.03520918 1.03901207\n",
            " 1.04323888 1.04769075 1.05226374 1.05697024]\n",
            "23 day output [[1.0618948]]\n",
            "24 day input [0.67123772 0.64867734 0.68141201 0.70485712 0.70308768 0.6925595\n",
            " 0.6915863  0.6713262  0.64416527 0.6446961  0.63779528 0.63832611\n",
            " 0.64646554 0.62151641 0.62894807 0.60957268 0.59585951 0.60913032\n",
            " 0.60966115 0.60780324 0.62363974 0.63983013 0.63195612 0.63434486\n",
            " 0.63806069 0.64230735 0.64301513 0.6577015  0.66415996 0.67442272\n",
            " 0.65947094 0.67097231 0.66893745 0.66486773 0.65663983 0.67079536\n",
            " 0.66858356 0.67070689 0.66115191 0.65796691 0.69733699 0.69813324\n",
            " 0.67990799 0.68866673 0.69079006 0.71096169 0.70671503 0.71963196\n",
            " 0.74121915 0.78023534 0.77475007 0.78704769 0.78501283 0.7502433\n",
            " 0.74316553 0.75342829 0.75263204 0.74776608 0.73706096 0.71830487\n",
            " 0.70910378 0.71520835 0.71989737 0.74024595 0.75617093 0.7644873\n",
            " 0.76156773 0.75457843 0.81562417 0.86003716 0.88870211 0.9102893\n",
            " 0.94505883 1.         0.94320092 0.92338317 0.94364065 0.95981944\n",
            " 0.97625113 0.99073488 0.99978256 1.00352967 1.00421333 1.00449216\n",
            " 1.00614476 1.00957227 1.01409185 1.01863718 1.02241468 1.02522302\n",
            " 1.02739286 1.02949524 1.03202355 1.03520918 1.03901207 1.04323888\n",
            " 1.04769075 1.05226374 1.05697024 1.06189477]\n",
            "24 day output [[1.0671269]]\n",
            "25 day input [0.64867734 0.68141201 0.70485712 0.70308768 0.6925595  0.6915863\n",
            " 0.6713262  0.64416527 0.6446961  0.63779528 0.63832611 0.64646554\n",
            " 0.62151641 0.62894807 0.60957268 0.59585951 0.60913032 0.60966115\n",
            " 0.60780324 0.62363974 0.63983013 0.63195612 0.63434486 0.63806069\n",
            " 0.64230735 0.64301513 0.6577015  0.66415996 0.67442272 0.65947094\n",
            " 0.67097231 0.66893745 0.66486773 0.65663983 0.67079536 0.66858356\n",
            " 0.67070689 0.66115191 0.65796691 0.69733699 0.69813324 0.67990799\n",
            " 0.68866673 0.69079006 0.71096169 0.70671503 0.71963196 0.74121915\n",
            " 0.78023534 0.77475007 0.78704769 0.78501283 0.7502433  0.74316553\n",
            " 0.75342829 0.75263204 0.74776608 0.73706096 0.71830487 0.70910378\n",
            " 0.71520835 0.71989737 0.74024595 0.75617093 0.7644873  0.76156773\n",
            " 0.75457843 0.81562417 0.86003716 0.88870211 0.9102893  0.94505883\n",
            " 1.         0.94320092 0.92338317 0.94364065 0.95981944 0.97625113\n",
            " 0.99073488 0.99978256 1.00352967 1.00421333 1.00449216 1.00614476\n",
            " 1.00957227 1.01409185 1.01863718 1.02241468 1.02522302 1.02739286\n",
            " 1.02949524 1.03202355 1.03520918 1.03901207 1.04323888 1.04769075\n",
            " 1.05226374 1.05697024 1.06189477 1.06712687]\n",
            "25 day output [[1.0727106]]\n",
            "26 day input [0.68141201 0.70485712 0.70308768 0.6925595  0.6915863  0.6713262\n",
            " 0.64416527 0.6446961  0.63779528 0.63832611 0.64646554 0.62151641\n",
            " 0.62894807 0.60957268 0.59585951 0.60913032 0.60966115 0.60780324\n",
            " 0.62363974 0.63983013 0.63195612 0.63434486 0.63806069 0.64230735\n",
            " 0.64301513 0.6577015  0.66415996 0.67442272 0.65947094 0.67097231\n",
            " 0.66893745 0.66486773 0.65663983 0.67079536 0.66858356 0.67070689\n",
            " 0.66115191 0.65796691 0.69733699 0.69813324 0.67990799 0.68866673\n",
            " 0.69079006 0.71096169 0.70671503 0.71963196 0.74121915 0.78023534\n",
            " 0.77475007 0.78704769 0.78501283 0.7502433  0.74316553 0.75342829\n",
            " 0.75263204 0.74776608 0.73706096 0.71830487 0.70910378 0.71520835\n",
            " 0.71989737 0.74024595 0.75617093 0.7644873  0.76156773 0.75457843\n",
            " 0.81562417 0.86003716 0.88870211 0.9102893  0.94505883 1.\n",
            " 0.94320092 0.92338317 0.94364065 0.95981944 0.97625113 0.99073488\n",
            " 0.99978256 1.00352967 1.00421333 1.00449216 1.00614476 1.00957227\n",
            " 1.01409185 1.01863718 1.02241468 1.02522302 1.02739286 1.02949524\n",
            " 1.03202355 1.03520918 1.03901207 1.04323888 1.04769075 1.05226374\n",
            " 1.05697024 1.06189477 1.06712687 1.07271063]\n",
            "26 day output [[1.0786299]]\n",
            "27 day input [0.70485712 0.70308768 0.6925595  0.6915863  0.6713262  0.64416527\n",
            " 0.6446961  0.63779528 0.63832611 0.64646554 0.62151641 0.62894807\n",
            " 0.60957268 0.59585951 0.60913032 0.60966115 0.60780324 0.62363974\n",
            " 0.63983013 0.63195612 0.63434486 0.63806069 0.64230735 0.64301513\n",
            " 0.6577015  0.66415996 0.67442272 0.65947094 0.67097231 0.66893745\n",
            " 0.66486773 0.65663983 0.67079536 0.66858356 0.67070689 0.66115191\n",
            " 0.65796691 0.69733699 0.69813324 0.67990799 0.68866673 0.69079006\n",
            " 0.71096169 0.70671503 0.71963196 0.74121915 0.78023534 0.77475007\n",
            " 0.78704769 0.78501283 0.7502433  0.74316553 0.75342829 0.75263204\n",
            " 0.74776608 0.73706096 0.71830487 0.70910378 0.71520835 0.71989737\n",
            " 0.74024595 0.75617093 0.7644873  0.76156773 0.75457843 0.81562417\n",
            " 0.86003716 0.88870211 0.9102893  0.94505883 1.         0.94320092\n",
            " 0.92338317 0.94364065 0.95981944 0.97625113 0.99073488 0.99978256\n",
            " 1.00352967 1.00421333 1.00449216 1.00614476 1.00957227 1.01409185\n",
            " 1.01863718 1.02241468 1.02522302 1.02739286 1.02949524 1.03202355\n",
            " 1.03520918 1.03901207 1.04323888 1.04769075 1.05226374 1.05697024\n",
            " 1.06189477 1.06712687 1.07271063 1.07862985]\n",
            "27 day output [[1.0848253]]\n",
            "28 day input [0.70308768 0.6925595  0.6915863  0.6713262  0.64416527 0.6446961\n",
            " 0.63779528 0.63832611 0.64646554 0.62151641 0.62894807 0.60957268\n",
            " 0.59585951 0.60913032 0.60966115 0.60780324 0.62363974 0.63983013\n",
            " 0.63195612 0.63434486 0.63806069 0.64230735 0.64301513 0.6577015\n",
            " 0.66415996 0.67442272 0.65947094 0.67097231 0.66893745 0.66486773\n",
            " 0.65663983 0.67079536 0.66858356 0.67070689 0.66115191 0.65796691\n",
            " 0.69733699 0.69813324 0.67990799 0.68866673 0.69079006 0.71096169\n",
            " 0.70671503 0.71963196 0.74121915 0.78023534 0.77475007 0.78704769\n",
            " 0.78501283 0.7502433  0.74316553 0.75342829 0.75263204 0.74776608\n",
            " 0.73706096 0.71830487 0.70910378 0.71520835 0.71989737 0.74024595\n",
            " 0.75617093 0.7644873  0.76156773 0.75457843 0.81562417 0.86003716\n",
            " 0.88870211 0.9102893  0.94505883 1.         0.94320092 0.92338317\n",
            " 0.94364065 0.95981944 0.97625113 0.99073488 0.99978256 1.00352967\n",
            " 1.00421333 1.00449216 1.00614476 1.00957227 1.01409185 1.01863718\n",
            " 1.02241468 1.02522302 1.02739286 1.02949524 1.03202355 1.03520918\n",
            " 1.03901207 1.04323888 1.04769075 1.05226374 1.05697024 1.06189477\n",
            " 1.06712687 1.07271063 1.07862985 1.08482528]\n",
            "28 day output [[1.0912265]]\n",
            "29 day input [0.6925595  0.6915863  0.6713262  0.64416527 0.6446961  0.63779528\n",
            " 0.63832611 0.64646554 0.62151641 0.62894807 0.60957268 0.59585951\n",
            " 0.60913032 0.60966115 0.60780324 0.62363974 0.63983013 0.63195612\n",
            " 0.63434486 0.63806069 0.64230735 0.64301513 0.6577015  0.66415996\n",
            " 0.67442272 0.65947094 0.67097231 0.66893745 0.66486773 0.65663983\n",
            " 0.67079536 0.66858356 0.67070689 0.66115191 0.65796691 0.69733699\n",
            " 0.69813324 0.67990799 0.68866673 0.69079006 0.71096169 0.70671503\n",
            " 0.71963196 0.74121915 0.78023534 0.77475007 0.78704769 0.78501283\n",
            " 0.7502433  0.74316553 0.75342829 0.75263204 0.74776608 0.73706096\n",
            " 0.71830487 0.70910378 0.71520835 0.71989737 0.74024595 0.75617093\n",
            " 0.7644873  0.76156773 0.75457843 0.81562417 0.86003716 0.88870211\n",
            " 0.9102893  0.94505883 1.         0.94320092 0.92338317 0.94364065\n",
            " 0.95981944 0.97625113 0.99073488 0.99978256 1.00352967 1.00421333\n",
            " 1.00449216 1.00614476 1.00957227 1.01409185 1.01863718 1.02241468\n",
            " 1.02522302 1.02739286 1.02949524 1.03202355 1.03520918 1.03901207\n",
            " 1.04323888 1.04769075 1.05226374 1.05697024 1.06189477 1.06712687\n",
            " 1.07271063 1.07862985 1.08482528 1.09122646]\n",
            "29 day output [[1.0977777]]\n",
            "[[0.9436406493186951], [0.9598194360733032], [0.9762511253356934], [0.990734875202179], [0.9997825622558594], [1.003529667854309], [1.0042133331298828], [1.004492163658142], [1.0061447620391846], [1.0095722675323486], [1.0140918493270874], [1.0186371803283691], [1.0224146842956543], [1.0252230167388916], [1.027392864227295], [1.0294952392578125], [1.032023549079895], [1.0352091789245605], [1.03901207447052], [1.043238878250122], [1.047690749168396], [1.0522637367248535], [1.056970238685608], [1.0618947744369507], [1.0671268701553345], [1.072710633277893], [1.0786298513412476], [1.0848252773284912], [1.0912264585494995], [1.0977777242660522]]\n"
          ],
          "name": "stdout"
        }
      ]
    },
    {
      "cell_type": "code",
      "metadata": {
        "id": "ud8hjOC0GYgn"
      },
      "source": [
        "day_new = np.arange(1, 101)\n",
        "day_pred = np.arange(101, 131)"
      ],
      "execution_count": 29,
      "outputs": []
    },
    {
      "cell_type": "code",
      "metadata": {
        "id": "vhJyyR5DGcpn"
      },
      "source": [
        "import matplotlib.pyplot as plt"
      ],
      "execution_count": 30,
      "outputs": []
    },
    {
      "cell_type": "code",
      "metadata": {
        "colab": {
          "base_uri": "https://localhost:8080/"
        },
        "id": "zg9ysZEBGfrl",
        "outputId": "afc28288-cdc7-4b48-bb16-910fc2fb0d18"
      },
      "source": [
        "len(df1)"
      ],
      "execution_count": 31,
      "outputs": [
        {
          "output_type": "execute_result",
          "data": {
            "text/plain": [
              "1258"
            ]
          },
          "metadata": {
            "tags": []
          },
          "execution_count": 31
        }
      ]
    },
    {
      "cell_type": "code",
      "metadata": {
        "colab": {
          "base_uri": "https://localhost:8080/",
          "height": 451
        },
        "id": "tDdAhoK5GjD6",
        "outputId": "4da7c2ba-3c3c-4548-a307-05dd168bef04"
      },
      "source": [
        "# plotting predicted output\n",
        "plt.plot(day_new, scaler.inverse_transform(df1[1158:]))\n",
        "plt.plot(day_pred, scaler.inverse_transform(lst_output))"
      ],
      "execution_count": 32,
      "outputs": [
        {
          "output_type": "execute_result",
          "data": {
            "text/plain": [
              "[<matplotlib.lines.Line2D at 0x7fc4085dc750>]"
            ]
          },
          "metadata": {
            "tags": []
          },
          "execution_count": 32
        },
        {
          "output_type": "display_data",
          "data": {
            "image/png": "[encoded data removed]",
            "text/plain": [
              "<Figure size 1440x576 with 1 Axes>"
            ]
          },
          "metadata": {
            "tags": [],
            "needs_background": "light"
          }
        }
      ]
    },
    {
      "cell_type": "code",
      "metadata": {
        "colab": {
          "base_uri": "https://localhost:8080/",
          "height": 452
        },
        "id": "7ARdY6-NGp9l",
        "outputId": "5dd1f96f-62fa-41c6-e1e0-cbb612a126c1"
      },
      "source": [
        "# plotting combined output\n",
        "df3 = df1.tolist()\n",
        "df3.extend(lst_output)\n",
        "plt.plot(df3[1200:])"
      ],
      "execution_count": 33,
      "outputs": [
        {
          "output_type": "execute_result",
          "data": {
            "text/plain": [
              "[<matplotlib.lines.Line2D at 0x7fc4085cf390>]"
            ]
          },
          "metadata": {
            "tags": []
          },
          "execution_count": 33
        },
        {
          "output_type": "display_data",
          "data": {
            "image/png": "[encoded data removed]",
            "text/plain": [
              "<Figure size 1440x576 with 1 Axes>"
            ]
          },
          "metadata": {
            "tags": [],
            "needs_background": "light"
          }
        }
      ]
    },
    {
      "cell_type": "code",
      "metadata": {
        "id": "3NpyYLhVGywj"
      },
      "source": [
        "df3 = scaler.inverse_transform(df3).tolist()"
      ],
      "execution_count": 34,
      "outputs": []
    },
    {
      "cell_type": "code",
      "metadata": {
        "colab": {
          "base_uri": "https://localhost:8080/",
          "height": 451
        },
        "id": "O37JQ1mKG01D",
        "outputId": "e7ee2842-47ad-44b1-feb5-dd08f6ace654"
      },
      "source": [
        "plt.plot(df3)"
      ],
      "execution_count": 35,
      "outputs": [
        {
          "output_type": "execute_result",
          "data": {
            "text/plain": [
              "[<matplotlib.lines.Line2D at 0x7fc4085bf950>]"
            ]
          },
          "metadata": {
            "tags": []
          },
          "execution_count": 35
        },
        {
          "output_type": "display_data",
          "data": {
            "image/png": "[encoded data removed]",
            "text/plain": [
              "<Figure size 1440x576 with 1 Axes>"
            ]
          },
          "metadata": {
            "tags": [],
            "needs_background": "light"
          }
        }
      ]
    }
  ]
}